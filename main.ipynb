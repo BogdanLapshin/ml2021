{
  "nbformat": 4,
  "nbformat_minor": 0,
  "metadata": {
    "orig_nbformat": 4,
    "language_info": {
      "name": "python",
      "version": "3.8.8",
      "mimetype": "text/x-python",
      "codemirror_mode": {
        "name": "ipython",
        "version": 3
      },
      "pygments_lexer": "ipython3",
      "nbconvert_exporter": "python",
      "file_extension": ".py"
    },
    "kernelspec": {
      "name": "python3",
      "display_name": "Python 3.8.8 64-bit ('base': conda)"
    },
    "interpreter": {
      "hash": "6d23dc9fb1536bab160869117775d27c3762152735adc7865e12ca8aac17ccc9"
    },
    "colab": {
      "name": "main.ipynb",
      "provenance": []
    }
  },
  "cells": [
    {
      "cell_type": "markdown",
      "metadata": {
        "id": "w2-vtEPQYcu8"
      },
      "source": [
        "\n",
        "# **Лабораторна робота №1**\n",
        "# **МІТ-31**\n",
        "# **Богдан Лапшин**"
      ]
    },
    {
      "cell_type": "markdown",
      "metadata": {
        "id": "H-ZHAJyRZA1A"
      },
      "source": [
        "## **Init libraries**"
      ]
    },
    {
      "cell_type": "code",
      "metadata": {
        "id": "m_NSbEU7Ycu_"
      },
      "source": [
        "import random as rnd\n",
        "import numpy as np\n",
        "import pandas as pd\n",
        "import matplotlib.pyplot as plt"
      ],
      "execution_count": 16,
      "outputs": []
    },
    {
      "cell_type": "code",
      "metadata": {
        "id": "UL86_VM2YcvB"
      },
      "source": [
        "def show(message, data):\n",
        "    print(message,'\\n', data, '\\n')\n",
        "\n",
        "def yhat(x, y):\n",
        "    k, b = np.polyfit(x, y, 1)\n",
        "    y_pred = k*x + b\n",
        "    return y_pred"
      ],
      "execution_count": 22,
      "outputs": []
    },
    {
      "cell_type": "markdown",
      "metadata": {
        "id": "xO-sDuUbYcvD"
      },
      "source": [
        "\n",
        "## **3авдання 1**\n",
        "\n",
        "NumPy (створити набір даних (розмір за власним рішенням), провести CRUD операції над даними (скаляр, вектор, матриця)). Використати arange, random.\n"
      ]
    },
    {
      "cell_type": "markdown",
      "metadata": {
        "id": "mcs9TM-3YcvE"
      },
      "source": [
        "### Скаляр"
      ]
    },
    {
      "cell_type": "code",
      "metadata": {
        "colab": {
          "base_uri": "https://localhost:8080/"
        },
        "id": "zA9umhtGYcvE",
        "outputId": "f0adf0ef-b823-44fb-c4b0-a7e530b805c2"
      },
      "source": [
        "array = np.arange(0, 19, 1)\n",
        "show(\"Create and Read\", array)\n",
        "\n",
        "array = np.insert(array, 19, 19)\n",
        "show(\"Update\", array)\n",
        "\n",
        "array = np.delete(array, 0)\n",
        "show(\"Delete\", array)\n",
        "\n",
        "secondArray = np.random.randint(20, size=(array.size))\n",
        "show(\"Using random\", secondArray)\n"
      ],
      "execution_count": 23,
      "outputs": [
        {
          "output_type": "stream",
          "name": "stdout",
          "text": [
            "Create and Read \n",
            " [ 0  1  2  3  4  5  6  7  8  9 10 11 12 13 14 15 16 17 18] \n",
            "\n",
            "Update \n",
            " [ 0  1  2  3  4  5  6  7  8  9 10 11 12 13 14 15 16 17 18 19] \n",
            "\n",
            "Delete \n",
            " [ 1  2  3  4  5  6  7  8  9 10 11 12 13 14 15 16 17 18 19] \n",
            "\n",
            "Using random \n",
            " [ 3  0  6  1 13 12  1 18 16  5 17 17  0  2  6  7  0  2 14] \n",
            "\n"
          ]
        }
      ]
    },
    {
      "cell_type": "markdown",
      "metadata": {
        "id": "PQKMjtuZYcvH"
      },
      "source": [
        "### Матриця"
      ]
    },
    {
      "cell_type": "code",
      "metadata": {
        "colab": {
          "base_uri": "https://localhost:8080/"
        },
        "id": "XlrDi2CQYcvJ",
        "outputId": "37001d09-072e-4485-83de-3a76a239dbfb"
      },
      "source": [
        "matrix = np.arange(16).reshape(4, 4)\n",
        "show(\"Create and Read\", matrix)\n",
        "\n",
        "newrow = [19,19,19,19]\n",
        "row_n = matrix.shape[0] ##last row\n",
        "matrix = np.insert(matrix,row_n,[newrow],axis= 0)\n",
        "matrix = np.arange(16).reshape(4, 4)\n",
        "show(\"Update\", matrix)\n",
        "\n",
        "matrix = np.delete(matrix, 0, 0)\n",
        "show(\"Delete\", matrix)"
      ],
      "execution_count": 24,
      "outputs": [
        {
          "output_type": "stream",
          "name": "stdout",
          "text": [
            "Create and Read \n",
            " [[ 0  1  2  3]\n",
            " [ 4  5  6  7]\n",
            " [ 8  9 10 11]\n",
            " [12 13 14 15]] \n",
            "\n",
            "Update \n",
            " [[ 0  1  2  3]\n",
            " [ 4  5  6  7]\n",
            " [ 8  9 10 11]\n",
            " [12 13 14 15]] \n",
            "\n",
            "Delete \n",
            " [[ 4  5  6  7]\n",
            " [ 8  9 10 11]\n",
            " [12 13 14 15]] \n",
            "\n"
          ]
        }
      ]
    },
    {
      "cell_type": "markdown",
      "metadata": {
        "id": "asSPQg1KYcvK"
      },
      "source": [
        "### Вектори"
      ]
    },
    {
      "cell_type": "code",
      "metadata": {
        "colab": {
          "base_uri": "https://localhost:8080/"
        },
        "id": "N-BWxGg8YcvK",
        "outputId": "adb8a9e1-9075-4bf7-8493-a3b391bf2406"
      },
      "source": [
        "a = np.arange(0,15,3)\n",
        "b = np.random.randint(19, size=5)\n",
        "c = np.add(a, b)\n",
        "d = np.subtract(a, b)\n",
        "\n",
        "show(\"Add\", \"{}\\n        + \\n{}\\n        =\\n {}\\n\".format(a, b, c))\n",
        "show(\"Subtract\", \"{}\\n        -\\n {} \\n        =\\n {}\\n\".format(a, b, d))"
      ],
      "execution_count": 50,
      "outputs": [
        {
          "output_type": "stream",
          "name": "stdout",
          "text": [
            "Add \n",
            " [ 0  3  6  9 12]\n",
            "        + \n",
            "[ 5  0 14 13  4]\n",
            "        =\n",
            " [ 5  3 20 22 16]\n",
            " \n",
            "\n",
            "Subtract \n",
            " [ 0  3  6  9 12]\n",
            "        -\n",
            " [ 5  0 14 13  4] \n",
            "        =\n",
            " [-5  3 -8 -4  8]\n",
            " \n",
            "\n"
          ]
        }
      ]
    },
    {
      "cell_type": "markdown",
      "metadata": {
        "id": "2U5swYUcYcvL"
      },
      "source": [
        "\n",
        "## **3авдання 2**\n",
        "\n",
        "Pandas (створити dataframe різними способами, провести маніпуляції з даними (head, describe, iloc, loc ...))"
      ]
    },
    {
      "cell_type": "code",
      "metadata": {
        "colab": {
          "base_uri": "https://localhost:8080/",
          "height": 204
        },
        "id": "Q_dkoSjPYcvL",
        "outputId": "83411d54-7919-4106-c49a-d829f738c5fd"
      },
      "source": [
        "data = pd.read_csv(\"customersData.csv\")\n",
        "data.head()"
      ],
      "execution_count": 56,
      "outputs": [
        {
          "output_type": "execute_result",
          "data": {
            "text/html": [
              "<div>\n",
              "<style scoped>\n",
              "    .dataframe tbody tr th:only-of-type {\n",
              "        vertical-align: middle;\n",
              "    }\n",
              "\n",
              "    .dataframe tbody tr th {\n",
              "        vertical-align: top;\n",
              "    }\n",
              "\n",
              "    .dataframe thead th {\n",
              "        text-align: right;\n",
              "    }\n",
              "</style>\n",
              "<table border=\"1\" class=\"dataframe\">\n",
              "  <thead>\n",
              "    <tr style=\"text-align: right;\">\n",
              "      <th></th>\n",
              "      <th>Email</th>\n",
              "      <th>Address</th>\n",
              "      <th>Avatar</th>\n",
              "      <th>Avg_Session_Length</th>\n",
              "      <th>Time_on_App</th>\n",
              "      <th>Time_on_Website</th>\n",
              "      <th>Length_of_Membership</th>\n",
              "      <th>Yearly_Amount_Spent</th>\n",
              "    </tr>\n",
              "  </thead>\n",
              "  <tbody>\n",
              "    <tr>\n",
              "      <th>0</th>\n",
              "      <td>mstephenson@fernandez.com</td>\n",
              "      <td>835 Frank Tunnel\\nWrightmouth, MI 82180-9605</td>\n",
              "      <td>Violet</td>\n",
              "      <td>34.497268</td>\n",
              "      <td>12.655651</td>\n",
              "      <td>39.577668</td>\n",
              "      <td>4.082621</td>\n",
              "      <td>587.951054</td>\n",
              "    </tr>\n",
              "    <tr>\n",
              "      <th>1</th>\n",
              "      <td>hduke@hotmail.com</td>\n",
              "      <td>4547 Archer Common\\nDiazchester, CA 06566-8576</td>\n",
              "      <td>DarkGreen</td>\n",
              "      <td>31.926272</td>\n",
              "      <td>11.109461</td>\n",
              "      <td>37.268959</td>\n",
              "      <td>2.664034</td>\n",
              "      <td>392.204933</td>\n",
              "    </tr>\n",
              "    <tr>\n",
              "      <th>2</th>\n",
              "      <td>pallen@yahoo.com</td>\n",
              "      <td>24645 Valerie Unions Suite 582\\nCobbborough, D...</td>\n",
              "      <td>Bisque</td>\n",
              "      <td>33.000915</td>\n",
              "      <td>11.330278</td>\n",
              "      <td>37.110597</td>\n",
              "      <td>4.104543</td>\n",
              "      <td>487.547505</td>\n",
              "    </tr>\n",
              "    <tr>\n",
              "      <th>3</th>\n",
              "      <td>riverarebecca@gmail.com</td>\n",
              "      <td>1414 David Throughway\\nPort Jason, OH 22070-1220</td>\n",
              "      <td>SaddleBrown</td>\n",
              "      <td>34.305557</td>\n",
              "      <td>13.717514</td>\n",
              "      <td>36.721283</td>\n",
              "      <td>3.120179</td>\n",
              "      <td>581.852344</td>\n",
              "    </tr>\n",
              "    <tr>\n",
              "      <th>4</th>\n",
              "      <td>mstephens@davidson-herman.com</td>\n",
              "      <td>14023 Rodriguez Passage\\nPort Jacobville, PR 3...</td>\n",
              "      <td>MediumAquaMarine</td>\n",
              "      <td>33.330673</td>\n",
              "      <td>12.795189</td>\n",
              "      <td>37.536653</td>\n",
              "      <td>4.446308</td>\n",
              "      <td>599.406092</td>\n",
              "    </tr>\n",
              "  </tbody>\n",
              "</table>\n",
              "</div>"
            ],
            "text/plain": [
              "                           Email  ... Yearly_Amount_Spent\n",
              "0      mstephenson@fernandez.com  ...          587.951054\n",
              "1              hduke@hotmail.com  ...          392.204933\n",
              "2               pallen@yahoo.com  ...          487.547505\n",
              "3        riverarebecca@gmail.com  ...          581.852344\n",
              "4  mstephens@davidson-herman.com  ...          599.406092\n",
              "\n",
              "[5 rows x 8 columns]"
            ]
          },
          "metadata": {},
          "execution_count": 56
        }
      ]
    },
    {
      "cell_type": "code",
      "metadata": {
        "colab": {
          "base_uri": "https://localhost:8080/",
          "height": 297
        },
        "id": "f7qn_C1xYcvL",
        "outputId": "efaa11de-ad3e-40cf-fad7-5829dade1dec"
      },
      "source": [
        "data.describe()"
      ],
      "execution_count": 57,
      "outputs": [
        {
          "output_type": "execute_result",
          "data": {
            "text/html": [
              "<div>\n",
              "<style scoped>\n",
              "    .dataframe tbody tr th:only-of-type {\n",
              "        vertical-align: middle;\n",
              "    }\n",
              "\n",
              "    .dataframe tbody tr th {\n",
              "        vertical-align: top;\n",
              "    }\n",
              "\n",
              "    .dataframe thead th {\n",
              "        text-align: right;\n",
              "    }\n",
              "</style>\n",
              "<table border=\"1\" class=\"dataframe\">\n",
              "  <thead>\n",
              "    <tr style=\"text-align: right;\">\n",
              "      <th></th>\n",
              "      <th>Avg_Session_Length</th>\n",
              "      <th>Time_on_App</th>\n",
              "      <th>Time_on_Website</th>\n",
              "      <th>Length_of_Membership</th>\n",
              "      <th>Yearly_Amount_Spent</th>\n",
              "    </tr>\n",
              "  </thead>\n",
              "  <tbody>\n",
              "    <tr>\n",
              "      <th>count</th>\n",
              "      <td>500.000000</td>\n",
              "      <td>500.000000</td>\n",
              "      <td>500.000000</td>\n",
              "      <td>500.000000</td>\n",
              "      <td>500.000000</td>\n",
              "    </tr>\n",
              "    <tr>\n",
              "      <th>mean</th>\n",
              "      <td>33.053194</td>\n",
              "      <td>12.052488</td>\n",
              "      <td>37.060445</td>\n",
              "      <td>3.533462</td>\n",
              "      <td>499.314038</td>\n",
              "    </tr>\n",
              "    <tr>\n",
              "      <th>std</th>\n",
              "      <td>0.992563</td>\n",
              "      <td>0.994216</td>\n",
              "      <td>1.010489</td>\n",
              "      <td>0.999278</td>\n",
              "      <td>79.314782</td>\n",
              "    </tr>\n",
              "    <tr>\n",
              "      <th>min</th>\n",
              "      <td>29.532429</td>\n",
              "      <td>8.508152</td>\n",
              "      <td>33.913847</td>\n",
              "      <td>0.269901</td>\n",
              "      <td>256.670582</td>\n",
              "    </tr>\n",
              "    <tr>\n",
              "      <th>25%</th>\n",
              "      <td>32.341822</td>\n",
              "      <td>11.388153</td>\n",
              "      <td>36.349257</td>\n",
              "      <td>2.930450</td>\n",
              "      <td>445.038277</td>\n",
              "    </tr>\n",
              "    <tr>\n",
              "      <th>50%</th>\n",
              "      <td>33.082008</td>\n",
              "      <td>11.983231</td>\n",
              "      <td>37.069367</td>\n",
              "      <td>3.533975</td>\n",
              "      <td>498.887875</td>\n",
              "    </tr>\n",
              "    <tr>\n",
              "      <th>75%</th>\n",
              "      <td>33.711985</td>\n",
              "      <td>12.753850</td>\n",
              "      <td>37.716432</td>\n",
              "      <td>4.126502</td>\n",
              "      <td>549.313828</td>\n",
              "    </tr>\n",
              "    <tr>\n",
              "      <th>max</th>\n",
              "      <td>36.139662</td>\n",
              "      <td>15.126994</td>\n",
              "      <td>40.005182</td>\n",
              "      <td>6.922689</td>\n",
              "      <td>765.518462</td>\n",
              "    </tr>\n",
              "  </tbody>\n",
              "</table>\n",
              "</div>"
            ],
            "text/plain": [
              "       Avg_Session_Length  ...  Yearly_Amount_Spent\n",
              "count          500.000000  ...           500.000000\n",
              "mean            33.053194  ...           499.314038\n",
              "std              0.992563  ...            79.314782\n",
              "min             29.532429  ...           256.670582\n",
              "25%             32.341822  ...           445.038277\n",
              "50%             33.082008  ...           498.887875\n",
              "75%             33.711985  ...           549.313828\n",
              "max             36.139662  ...           765.518462\n",
              "\n",
              "[8 rows x 5 columns]"
            ]
          },
          "metadata": {},
          "execution_count": 57
        }
      ]
    },
    {
      "cell_type": "code",
      "metadata": {
        "colab": {
          "base_uri": "https://localhost:8080/"
        },
        "id": "HJ11g4bEYcvM",
        "outputId": "4958e6a2-3734-421b-835f-6fb3e8267f57"
      },
      "source": [
        "print(data.iloc[0])"
      ],
      "execution_count": 58,
      "outputs": [
        {
          "output_type": "stream",
          "name": "stdout",
          "text": [
            "Email                                      mstephenson@fernandez.com\n",
            "Address                 835 Frank Tunnel\\nWrightmouth, MI 82180-9605\n",
            "Avatar                                                        Violet\n",
            "Avg_Session_Length                                           34.4973\n",
            "Time_on_App                                                  12.6557\n",
            "Time_on_Website                                              39.5777\n",
            "Length_of_Membership                                         4.08262\n",
            "Yearly_Amount_Spent                                          587.951\n",
            "Name: 0, dtype: object\n"
          ]
        }
      ]
    },
    {
      "cell_type": "code",
      "metadata": {
        "colab": {
          "base_uri": "https://localhost:8080/"
        },
        "id": "IZC9VsjzYcvM",
        "outputId": "400d1b99-53a3-4fc2-e204-b5785ca31536"
      },
      "source": [
        "print(data.loc[0:19,\"Avatar\"])"
      ],
      "execution_count": 64,
      "outputs": [
        {
          "output_type": "stream",
          "name": "stdout",
          "text": [
            "0               Violet\n",
            "1            DarkGreen\n",
            "2               Bisque\n",
            "3          SaddleBrown\n",
            "4     MediumAquaMarine\n",
            "5          FloralWhite\n",
            "6        DarkSlateBlue\n",
            "7                 Aqua\n",
            "8                 Fish\n",
            "9                Brown\n",
            "10              Tomato\n",
            "11              Tomato\n",
            "12           RoyalBlue\n",
            "13              Bisque\n",
            "14            DarkBlue\n",
            "15                Peru\n",
            "16          PowderBlue\n",
            "17           OliveDrab\n",
            "18                Cyan\n",
            "19              Mukola\n",
            "Name: Avatar, dtype: object\n"
          ]
        }
      ]
    },
    {
      "cell_type": "markdown",
      "metadata": {
        "id": "niWvmj5FYcvM"
      },
      "source": [
        "\n",
        "## **3авдання 3**\n",
        "\n",
        "Matplotlib (створити набір даних лінійної функції з урахуванням помилок вимірювань, побудувати графік функції та згенерованих даних, обчислити похибку з використанням метрик MAE, MSE). Записати отримані результати у csv файл (формат: X,Y, Y_hat, mAE, mSE)"
      ]
    },
    {
      "cell_type": "code",
      "metadata": {
        "colab": {
          "base_uri": "https://localhost:8080/",
          "height": 324
        },
        "id": "AI2s_XorYcvM",
        "outputId": "63a2f0c8-df5c-44dd-da55-0acd91c88985"
      },
      "source": [
        "plt.rcParams['figure.figsize'] = (10, 5)\n",
        "fig = plt.subplots()"
      ],
      "execution_count": 73,
      "outputs": [
        {
          "output_type": "display_data",
          "data": {
            "image/png": "[encoded data removed]",
            "text/plain": [
              "<Figure size 720x360 with 1 Axes>"
            ]
          },
          "metadata": {
            "needs_background": "light"
          }
        }
      ]
    },
    {
      "cell_type": "code",
      "metadata": {
        "colab": {
          "base_uri": "https://localhost:8080/",
          "height": 371
        },
        "id": "bj4WctLSYcvN",
        "outputId": "cba99b90-e342-47ca-eef4-bc4ac25244cc"
      },
      "source": [
        "%matplotlib inline\n",
        "plt.rcParams['figure.figsize'] = (10, 5)\n",
        "plt.style.use('seaborn-deep')\n",
        "x_data = []\n",
        "y_data = []\n",
        "for i in np.arange(0,35,0.35):\n",
        "    x_data.append(i)\n",
        "    y_data.append(i**2)\n",
        "X = np.linspace(0,15,500)\n",
        "Y = X\n",
        "X1 = np.linspace(0,65,9000)\n",
        "Y1 = X1 * 19\n",
        "fig, ax = plt.subplots()\n",
        "plt.plot(x_data,y_data,X,Y,X1,Y1)"
      ],
      "execution_count": 66,
      "outputs": [
        {
          "output_type": "execute_result",
          "data": {
            "text/plain": [
              "[<matplotlib.lines.Line2D at 0x7f79bac935d0>,\n",
              " <matplotlib.lines.Line2D at 0x7f79bac933d0>,\n",
              " <matplotlib.lines.Line2D at 0x7f79ba6f86d0>]"
            ]
          },
          "metadata": {},
          "execution_count": 66
        },
        {
          "output_type": "display_data",
          "data": {
            "image/png": "[encoded data removed]",
            "text/plain": [
              "<Figure size 720x360 with 1 Axes>"
            ]
          },
          "metadata": {
            "needs_background": "light"
          }
        }
      ]
    },
    {
      "cell_type": "code",
      "metadata": {
        "colab": {
          "base_uri": "https://localhost:8080/",
          "height": 337
        },
        "id": "OnIMvkLJYcvN",
        "outputId": "8a24d328-db96-498f-ed71-a19acbd8bebc"
      },
      "source": [
        "plt.rcParams['figure.figsize'] = (10, 5)\n",
        "plt.scatter(x_data,y_data)"
      ],
      "execution_count": 67,
      "outputs": [
        {
          "output_type": "execute_result",
          "data": {
            "text/plain": [
              "<matplotlib.collections.PathCollection at 0x7f79ba6cdb90>"
            ]
          },
          "metadata": {},
          "execution_count": 67
        },
        {
          "output_type": "display_data",
          "data": {
            "image/png": "[encoded data removed]",
            "text/plain": [
              "<Figure size 720x360 with 1 Axes>"
            ]
          },
          "metadata": {
            "needs_background": "light"
          }
        }
      ]
    },
    {
      "cell_type": "code",
      "metadata": {
        "colab": {
          "base_uri": "https://localhost:8080/"
        },
        "id": "L02fTdULYcvO",
        "outputId": "633b602d-2f13-4100-dd8b-0f8a990384a1"
      },
      "source": [
        "mean = np.mean(x_data)\n",
        "MAE = [np.abs(real - mean) for real in x_data]\n",
        "MSE = [np.square(real - mean) for real in x_data]\n",
        "\n",
        "x_data = np.random.random(19)\n",
        "y_data = x_data ** 2\n",
        "\n",
        "y_hat = (yhat(x_data, y_data))\n",
        "\n",
        "head = np.column_stack((x_data, y_data, y_hat, MAE, MSE))\n",
        "answer = pd.DataFrame(head, columns=('X', 'Y', 'Y_Hat', 'MAE', 'MSE'))\n",
        "print(answer)"
      ],
      "execution_count": 74,
      "outputs": [
        {
          "output_type": "stream",
          "name": "stdout",
          "text": [
            "           X         Y     Y_Hat       MAE       MSE\n",
            "0   0.405917  0.164768  0.232186  0.068143  0.004644\n",
            "1   0.206537  0.042657  0.054844  0.265193  0.070327\n",
            "2   0.629434  0.396187  0.430998  0.241078  0.058118\n",
            "3   0.545944  0.298055  0.356736  0.321263  0.103210\n",
            "4   0.263958  0.069674  0.105918  0.167393  0.028021\n",
            "5   0.027482  0.000755 -0.104420  0.137682  0.018956\n",
            "6   0.620847  0.385451  0.423360  0.271499  0.073712\n",
            "7   0.004856  0.000024 -0.124546  0.492455  0.242512\n",
            "8   0.862825  0.744467  0.638593  0.265694  0.070594\n",
            "9   0.438992  0.192714  0.261606  0.494122  0.244156\n",
            "10  0.550465  0.303011  0.360757  0.090300  0.008154\n",
            "11  0.134811  0.018174 -0.008954  0.431645  0.186318\n",
            "12  0.658163  0.433178  0.456551  0.434463  0.188758\n",
            "13  0.961509  0.924499  0.726369  0.249673  0.062337\n",
            "14  0.631232  0.398454  0.432597  0.400103  0.160083\n",
            "15  0.354964  0.125999  0.186865  0.515553  0.265795\n",
            "16  0.608420  0.370175  0.412307  0.225822  0.050995\n",
            "17  0.140326  0.019691 -0.004048  0.412755  0.170366\n",
            "18  0.581513  0.338157  0.388374  0.446778  0.199611\n"
          ]
        }
      ]
    },
    {
      "cell_type": "code",
      "metadata": {
        "id": "M_uBY7hBYcvO"
      },
      "source": [
        "answer.to_csv('data.csv')"
      ],
      "execution_count": 71,
      "outputs": []
    }
  ]
}