{
  "nbformat": 4,
  "nbformat_minor": 0,
  "metadata": {
    "orig_nbformat": 4,
    "language_info": {
      "name": "python",
      "version": "3.8.8",
      "mimetype": "text/x-python",
      "codemirror_mode": {
        "name": "ipython",
        "version": 3
      },
      "pygments_lexer": "ipython3",
      "nbconvert_exporter": "python",
      "file_extension": ".py"
    },
    "kernelspec": {
      "name": "python3",
      "display_name": "Python 3.8.8 64-bit ('base': conda)"
    },
    "interpreter": {
      "hash": "cc5f70855ac006f3de45a3cc3b9e7d8d53845e50458809cb162b0174266dec97"
    },
    "colab": {
      "name": "main.ipynb",
      "provenance": [],
      "collapsed_sections": [
        "NxviB_n_Bwgb"
      ]
    }
  },
  "cells": [
    {
      "cell_type": "markdown",
      "metadata": {
        "id": "bjanuQglBY3E"
      },
      "source": [
        "# **Лабораторна робота №2**\n",
        "# **МІТ-31**\n",
        "# **Богдан Лапшин**"
      ]
    },
    {
      "cell_type": "code",
      "metadata": {
        "id": "b2Nzug_-BY3I"
      },
      "source": [
        "import pandas as pd\n",
        "import numpy as np\n",
        "import matplotlib.pyplot as plt\n",
        "import seaborn as sns\n",
        "from sklearn.datasets import make_regression"
      ],
      "execution_count": null,
      "outputs": []
    },
    {
      "cell_type": "markdown",
      "metadata": {
        "id": "KamtHAGpBY3J"
      },
      "source": [
        "#1. Створити набір даних за допомогою DatasetGenerator\n",
        "\n"
      ]
    },
    {
      "cell_type": "code",
      "metadata": {
        "colab": {
          "base_uri": "https://localhost:8080/"
        },
        "id": "HuAAqYq9BY3J",
        "outputId": "a2266def-e77d-4d89-cc1c-f44b712272f9"
      },
      "source": [
        "X, y = make_regression(n_samples=512, n_features=10, n_informative=512, n_targets=1,  noise=0.0, shuffle=True, coef=False, random_state=None)\n",
        "\n",
        "print(X,y)"
      ],
      "execution_count": null,
      "outputs": [
        {
          "output_type": "stream",
          "name": "stdout",
          "text": [
            "[[ 0.24266655  1.21440195  0.69627593 ...  1.34935973 -1.43994661\n",
            "   2.03119398]\n",
            " [ 0.24973074 -0.82209505  1.14247332 ...  0.59255212  0.1256493\n",
            "   0.79524671]\n",
            " [-1.60778897 -0.93888201  0.21258152 ... -2.23567     1.17385794\n",
            "   0.02704556]\n",
            " ...\n",
            " [ 1.42983812 -1.41742475  1.39368644 ...  0.50116024  0.01291688\n",
            "  -0.95297508]\n",
            " [-0.81864422  0.702606    1.31213193 ...  1.39417691  0.35417385\n",
            "   0.32902807]\n",
            " [ 2.77576207  0.02910051  0.11534386 ...  1.62433708  0.83849588\n",
            "   0.10220052]] [ 4.46530229e+02 -1.88786042e+01 -4.14510440e+02 -9.01414613e+01\n",
            "  3.33674121e+02 -4.92819503e+01 -5.26810579e+02  1.18335884e+02\n",
            " -1.40519067e+02 -3.44841624e+02  7.75710294e+01 -2.58276677e+02\n",
            "  3.11909564e+02 -3.26343826e+02 -4.14674829e+02  5.28281508e+01\n",
            " -9.55435283e+01  1.21418757e+02  9.10856401e+01 -1.42836119e+02\n",
            " -5.07716375e+02 -5.31201332e+01 -2.32954784e+02  3.10827135e+02\n",
            " -3.40801492e+02 -2.56845426e+02  1.57439243e+02  5.09929140e+01\n",
            " -4.56576732e+02 -2.96785044e+02  2.48724591e+01 -2.59510940e+01\n",
            " -3.46440631e+02 -1.88335069e+02  4.88130480e+01  2.74442574e+02\n",
            "  1.11157695e+02 -1.35428606e+02  1.78562910e+02  2.13277680e+02\n",
            "  1.01747885e+02 -6.94183272e+01  2.52488084e+02  1.76622992e+02\n",
            "  6.57215035e+01 -1.39519465e+02  3.83128198e+02  5.38042975e+02\n",
            " -1.40571276e+02  9.68597629e+00 -1.23445313e+02  1.22023062e+02\n",
            " -3.99025241e+02 -2.56990153e+02  1.00690480e+02  5.22484253e+01\n",
            "  8.77035915e+01  2.24437539e+02  2.25918924e+02 -1.68192131e+00\n",
            "  1.13891383e+02  8.91733937e+01  3.76293357e+02  1.62072386e+02\n",
            " -3.00207955e+02  3.27328171e+02 -1.23513433e+02 -3.40421362e+02\n",
            " -1.25635857e+02 -1.62203056e+02 -2.39977861e+01  6.90944924e+01\n",
            " -2.04203466e+02  1.65859716e+01 -3.77422679e+01  2.58681117e+01\n",
            "  2.22354795e+02 -1.47015166e+02  2.65723757e+02  1.80752881e+02\n",
            "  5.68471904e+01 -2.89973735e+02  2.44178592e+02 -3.04885594e+01\n",
            "  2.14958508e+02 -4.82645955e+01  9.12576780e+01  1.00929163e+02\n",
            "  1.01922063e+02 -4.83885939e+00 -2.33638358e+02  1.58298546e+02\n",
            "  1.13862665e+02  3.31417857e+02 -1.83211157e+02  4.54841307e+02\n",
            " -1.12517984e+02  6.38640206e+01  7.63777138e+01  1.75257249e+02\n",
            "  1.92218866e+02  3.21452540e+02 -1.09559162e+02 -1.48921335e+02\n",
            "  1.21341395e+02 -2.15180726e+00 -1.63126492e+01  3.00715236e+02\n",
            "  1.80657327e+02  4.52222367e+02  1.23453744e+02 -1.39228106e+02\n",
            "  1.35844747e+02 -7.47637021e+01  1.03505559e+02  3.69404240e+02\n",
            " -1.21087086e+02 -9.66747678e+01 -5.04734323e+02 -1.85369161e+02\n",
            "  1.92238858e+01  8.92158195e+01  1.05175911e+02 -7.77204554e+01\n",
            " -5.14016139e+01  6.75795379e+01  9.85397527e+01 -2.11845685e+02\n",
            " -4.44178727e+01  1.06583810e+02 -2.68886499e+02  5.11457764e+01\n",
            "  5.93582086e+01  1.25267099e+02  1.68434831e+01 -6.09574812e+01\n",
            " -2.36767198e+02 -2.52187070e+02  2.43599499e+02 -1.77446211e+02\n",
            "  2.85993559e+02 -1.78156943e+01  1.69474682e+02  8.23678756e+01\n",
            "  2.72184810e+02  1.60045346e+02  3.37668459e+02  1.14159032e+02\n",
            "  2.35604820e+02  2.88425452e+02  1.03073007e+02  1.71262486e+02\n",
            " -1.80036098e+02  1.32840730e+02  6.43636283e+01  1.84147326e+02\n",
            "  3.46558623e+02  1.28694570e+01 -4.27050570e+02  1.56059337e+02\n",
            " -2.07171594e+02  3.19986643e+02  1.75807264e+02 -1.41806308e+02\n",
            " -2.66669593e+01  7.22095297e+01  1.91236446e+02 -3.24710638e+02\n",
            " -3.97174890e+01  1.95671895e+02 -2.69003204e+01 -1.04009689e+02\n",
            " -8.01048427e+01  1.10127246e+02 -2.33505530e+02 -1.50536747e+01\n",
            "  1.74479023e+02 -3.10414783e+02  4.70483497e+02 -1.09055717e+02\n",
            "  9.65501272e+01  2.13705425e+02  2.04195015e+02 -2.60870548e+02\n",
            "  1.70765167e+01  1.89254222e+02 -3.09463047e+01  6.38635314e+02\n",
            " -2.86851402e+01 -2.78503911e+02 -1.46488608e+02 -1.31311781e+02\n",
            " -1.18112956e+02  2.68811423e+02  8.96601091e+01 -6.69346145e+01\n",
            "  7.47276860e+01  5.49426762e+01 -1.59043486e+01 -4.39242852e+01\n",
            " -1.59980693e+02  1.65037265e+02 -1.76607339e+02  7.98861659e+01\n",
            "  1.54548070e+02 -9.47163170e+01  4.80427692e+01  3.00749801e+02\n",
            " -1.61440334e+02 -1.60408772e+02  5.61277501e+00 -8.80293978e+01\n",
            "  1.89543081e+02  1.08758650e+02 -2.57104370e+01 -1.45877985e+02\n",
            " -1.95485799e+02  1.51076476e+02  5.50896807e+01 -3.16480833e+01\n",
            " -1.77221676e+02 -3.87528531e+02  1.78731146e+02 -4.60791097e+01\n",
            " -1.07414072e+02  6.76579352e+01 -1.07455824e+02 -1.79623020e+02\n",
            "  1.65914866e+01  6.51096258e+01  2.22936916e+02  6.94416037e+01\n",
            " -3.48338116e+02  3.37389506e+01 -7.71891610e+01  1.39043254e+02\n",
            "  9.51168034e+01  3.37032713e+01  5.28677948e+01  6.82305718e+01\n",
            " -1.44564723e+02  4.66863609e+02  1.73169078e+02  1.72700500e+02\n",
            "  2.20270642e+02  1.48039985e+02  7.57305373e+01  1.93048083e+02\n",
            "  1.37774961e+02 -4.02594045e+02  4.36886440e+02  5.75845727e+01\n",
            "  3.36064036e+02  5.30874003e+01 -2.23765861e+02  1.15607653e+02\n",
            " -1.22912553e+02  1.83226908e+02  9.22267291e+01 -2.13988895e+02\n",
            "  1.22385770e+02  1.16820470e+02  2.44411922e+02  2.69633893e+01\n",
            " -2.25186840e+02  9.95820821e+01 -5.36043903e+01 -1.46066335e+02\n",
            " -3.30646336e+01 -1.66091520e+01  1.07866266e+01  7.43462851e+01\n",
            " -1.81909228e+02 -1.40802221e+02  6.73818771e+00  2.61531664e+02\n",
            " -3.87548658e+02 -3.91395732e+00  1.30212864e+01  8.45986420e+01\n",
            " -1.81010686e+02 -3.40788355e+02 -7.17156186e+01 -1.79858835e+02\n",
            " -1.45459117e+02 -7.44247245e+01  2.17105022e+02 -1.59174155e+02\n",
            " -3.55545432e+02 -1.11358859e+02 -2.11173245e+02 -7.40332136e+01\n",
            "  1.64958310e+02  2.10438182e+02  4.38308575e+01 -4.42121570e+01\n",
            " -7.18884083e+01 -2.42208601e+02 -2.36645514e+01  1.34618618e+02\n",
            "  2.22465440e+02 -6.41643128e+01  4.19860356e+00 -8.15890229e+01\n",
            "  1.90947826e+02  1.68525910e+02  1.74497507e+02  3.91610806e+02\n",
            " -1.99742723e+01 -3.90181067e+00  2.47279174e+02  9.01317494e+01\n",
            " -9.51668407e+01 -1.27328340e+02  1.03151778e+02  8.15530637e+01\n",
            "  1.71050483e+02 -3.96355054e+01 -8.39570156e+01  1.14186577e+02\n",
            "  2.52368278e+02 -2.69357420e+02 -1.35861420e+02 -1.85921966e+01\n",
            "  3.76817993e+02 -2.39157592e+01 -1.66304231e+02  2.74603685e+02\n",
            "  6.90518536e+01 -8.31962319e+01  3.17738100e+02  1.35472332e+02\n",
            "  8.15660764e+01 -1.38984847e+02 -7.36331764e+01 -2.58341301e+01\n",
            " -1.87608383e+02  1.02349192e+01  6.35383649e+01  8.63707445e+01\n",
            "  5.71840005e+01 -1.69419283e+01 -1.34201881e+02  2.30058336e+02\n",
            "  1.65870385e+02 -2.95866252e+02 -2.27124190e+02 -9.81068703e+01\n",
            "  2.49649516e+02  3.04387242e+02  3.69873448e+02  1.72307763e+02\n",
            " -2.97951933e+02  1.06339701e+02 -5.29242389e+01 -2.22239278e+02\n",
            "  1.00604289e+02  1.75282515e+02 -1.82689981e+02 -1.52167346e+02\n",
            " -3.36387039e+02 -7.30383372e+01  1.88960679e+00 -2.72791791e+00\n",
            " -4.95388409e+01 -3.43657152e+02  2.11769629e+02  3.24174394e+01\n",
            " -1.94588746e+02  3.59591349e+01 -2.11880833e+01 -6.99548126e+01\n",
            " -5.25063942e+01 -1.26030870e+02 -2.54277652e+02  6.39194057e+01\n",
            " -2.46642338e+02 -1.01240304e+02 -7.94950711e+01  2.94298757e+02\n",
            "  1.18628148e+02  1.93390271e+02 -1.04147360e+02 -1.12455739e+02\n",
            "  9.29050515e+01  1.21733152e+01  2.92345727e+02 -6.25401434e+01\n",
            " -3.33573324e+02  2.36700422e+02  2.57250263e+02 -1.57794045e-01\n",
            "  1.08842472e+02 -4.25267659e+02  2.05412242e+01 -2.29934288e+02\n",
            "  2.32768225e+02  6.96540105e+01  1.22386413e+02 -1.42371351e+02\n",
            " -2.23597905e+02 -7.29720050e+01 -6.18672313e-01 -1.11179151e+02\n",
            "  2.37999031e+01 -9.84981277e+01 -2.06038760e+02  2.58968652e+02\n",
            " -5.12247482e+02 -1.06775535e+02  5.93456124e+01 -2.82208916e+02\n",
            "  6.22375186e+00 -1.38953549e+01  1.26523708e+02  1.57242302e+02\n",
            "  6.27843365e+01 -1.54399491e+02 -4.45033099e+01  3.44131240e+02\n",
            " -2.34044275e+02  4.16123895e+02 -2.84650104e+02 -2.26052449e+02\n",
            "  9.85341147e+01 -2.73292355e+02 -4.04683379e+01 -1.95664280e+02\n",
            " -1.29482079e+02  1.13724451e+02  9.20115669e+01  8.93206362e+01\n",
            "  1.75961617e+02  1.29647720e+01  1.42968653e+02 -1.30838021e+02\n",
            "  5.11895066e+02  1.64783590e+02  2.94519715e+02  7.67938125e+01\n",
            "  2.03449631e+02  4.11998353e+02  5.69287099e+01  2.13784991e+02\n",
            "  2.65737429e+02  3.01033147e+00  2.04342318e+02 -8.41271831e+01\n",
            " -1.44071877e+02 -1.67757175e+02  1.05130815e+02  1.31679044e+01\n",
            "  3.94027696e+00 -1.22524455e+02 -3.70769292e+02 -2.52129737e+02\n",
            "  3.69002176e+01  1.83951785e+02  1.46654146e+02 -4.58563747e+00\n",
            "  2.15347425e+02 -6.03041346e+01  8.95722523e+00 -3.56989568e+02\n",
            "  1.92191395e+02 -6.53463081e+01  2.02847993e+02  1.29329844e+02\n",
            "  1.51041044e+02  2.13640305e+02 -2.16779566e+02  2.44689013e+02\n",
            " -2.12093180e+02  6.86187512e+01 -2.88738739e+01 -8.11286953e+01\n",
            " -2.63248496e+02  2.20618670e+02 -1.35961942e+02  1.77327456e+02\n",
            "  3.92482905e+02 -1.35596180e+02  1.46479805e+02 -4.40062484e+01\n",
            "  2.70935055e+01  8.56560550e+01 -1.24481991e+02 -1.44099205e+02\n",
            "  3.16933875e+01  8.14675973e+01  1.32321802e+02 -2.13300335e+02\n",
            "  6.03513767e+01  7.90233182e+01  1.91840945e+02  8.00224389e+01\n",
            " -3.90751288e+02  6.54332333e+01 -1.00663944e+02  1.11190053e+01\n",
            " -9.26709357e+01  3.20750589e+01  1.11703867e+02  1.30088122e+02\n",
            " -1.28773250e+02 -2.87317672e+02 -1.39804371e+01  4.07127616e+02\n",
            " -3.27070736e+00  1.49648643e+02  2.81939231e+02  3.34923919e+02]\n"
          ]
        }
      ]
    },
    {
      "cell_type": "code",
      "metadata": {
        "colab": {
          "base_uri": "https://localhost:8080/",
          "height": 204
        },
        "id": "Vx0tyxWxBY3K",
        "outputId": "67e538b5-8fd0-47c4-8349-c59c77145964"
      },
      "source": [
        "df = pd.DataFrame(X, y)\n",
        "df.to_csv('numbers_data.csv')\n",
        "df.head()"
      ],
      "execution_count": null,
      "outputs": [
        {
          "output_type": "execute_result",
          "data": {
            "text/html": [
              "<div>\n",
              "<style scoped>\n",
              "    .dataframe tbody tr th:only-of-type {\n",
              "        vertical-align: middle;\n",
              "    }\n",
              "\n",
              "    .dataframe tbody tr th {\n",
              "        vertical-align: top;\n",
              "    }\n",
              "\n",
              "    .dataframe thead th {\n",
              "        text-align: right;\n",
              "    }\n",
              "</style>\n",
              "<table border=\"1\" class=\"dataframe\">\n",
              "  <thead>\n",
              "    <tr style=\"text-align: right;\">\n",
              "      <th></th>\n",
              "      <th>0</th>\n",
              "      <th>1</th>\n",
              "      <th>2</th>\n",
              "      <th>3</th>\n",
              "      <th>4</th>\n",
              "      <th>5</th>\n",
              "      <th>6</th>\n",
              "      <th>7</th>\n",
              "      <th>8</th>\n",
              "      <th>9</th>\n",
              "    </tr>\n",
              "  </thead>\n",
              "  <tbody>\n",
              "    <tr>\n",
              "      <th>446.530229</th>\n",
              "      <td>0.242667</td>\n",
              "      <td>1.214402</td>\n",
              "      <td>0.696276</td>\n",
              "      <td>-0.453172</td>\n",
              "      <td>0.778231</td>\n",
              "      <td>2.156849</td>\n",
              "      <td>-0.226837</td>\n",
              "      <td>1.349360</td>\n",
              "      <td>-1.439947</td>\n",
              "      <td>2.031194</td>\n",
              "    </tr>\n",
              "    <tr>\n",
              "      <th>-18.878604</th>\n",
              "      <td>0.249731</td>\n",
              "      <td>-0.822095</td>\n",
              "      <td>1.142473</td>\n",
              "      <td>-1.368869</td>\n",
              "      <td>0.161638</td>\n",
              "      <td>0.441155</td>\n",
              "      <td>-0.689722</td>\n",
              "      <td>0.592552</td>\n",
              "      <td>0.125649</td>\n",
              "      <td>0.795247</td>\n",
              "    </tr>\n",
              "    <tr>\n",
              "      <th>-414.510440</th>\n",
              "      <td>-1.607789</td>\n",
              "      <td>-0.938882</td>\n",
              "      <td>0.212582</td>\n",
              "      <td>0.184835</td>\n",
              "      <td>-0.925069</td>\n",
              "      <td>0.636516</td>\n",
              "      <td>-1.070053</td>\n",
              "      <td>-2.235670</td>\n",
              "      <td>1.173858</td>\n",
              "      <td>0.027046</td>\n",
              "    </tr>\n",
              "    <tr>\n",
              "      <th>-90.141461</th>\n",
              "      <td>-0.066303</td>\n",
              "      <td>-0.346012</td>\n",
              "      <td>0.201577</td>\n",
              "      <td>-0.488340</td>\n",
              "      <td>0.266940</td>\n",
              "      <td>-1.001434</td>\n",
              "      <td>0.181213</td>\n",
              "      <td>-1.133708</td>\n",
              "      <td>0.546227</td>\n",
              "      <td>1.270101</td>\n",
              "    </tr>\n",
              "    <tr>\n",
              "      <th>333.674121</th>\n",
              "      <td>1.920405</td>\n",
              "      <td>-1.126835</td>\n",
              "      <td>-0.694514</td>\n",
              "      <td>0.966447</td>\n",
              "      <td>0.299045</td>\n",
              "      <td>-0.587917</td>\n",
              "      <td>1.226245</td>\n",
              "      <td>2.767642</td>\n",
              "      <td>-0.248728</td>\n",
              "      <td>-0.521531</td>\n",
              "    </tr>\n",
              "  </tbody>\n",
              "</table>\n",
              "</div>"
            ],
            "text/plain": [
              "                    0         1         2  ...         7         8         9\n",
              " 446.530229  0.242667  1.214402  0.696276  ...  1.349360 -1.439947  2.031194\n",
              "-18.878604   0.249731 -0.822095  1.142473  ...  0.592552  0.125649  0.795247\n",
              "-414.510440 -1.607789 -0.938882  0.212582  ... -2.235670  1.173858  0.027046\n",
              "-90.141461  -0.066303 -0.346012  0.201577  ... -1.133708  0.546227  1.270101\n",
              " 333.674121  1.920405 -1.126835 -0.694514  ...  2.767642 -0.248728 -0.521531\n",
              "\n",
              "[5 rows x 10 columns]"
            ]
          },
          "metadata": {},
          "execution_count": 4
        }
      ]
    },
    {
      "cell_type": "code",
      "metadata": {
        "colab": {
          "base_uri": "https://localhost:8080/"
        },
        "id": "lxRk3HWjBY3L",
        "outputId": "2951c9d6-19d8-47a6-a0f2-338aa73f5570"
      },
      "source": [
        "df.info()"
      ],
      "execution_count": null,
      "outputs": [
        {
          "output_type": "stream",
          "name": "stdout",
          "text": [
            "<class 'pandas.core.frame.DataFrame'>\n",
            "Float64Index: 512 entries, 446.5302286052342 to 334.9239191741146\n",
            "Data columns (total 10 columns):\n",
            " #   Column  Non-Null Count  Dtype  \n",
            "---  ------  --------------  -----  \n",
            " 0   0       512 non-null    float64\n",
            " 1   1       512 non-null    float64\n",
            " 2   2       512 non-null    float64\n",
            " 3   3       512 non-null    float64\n",
            " 4   4       512 non-null    float64\n",
            " 5   5       512 non-null    float64\n",
            " 6   6       512 non-null    float64\n",
            " 7   7       512 non-null    float64\n",
            " 8   8       512 non-null    float64\n",
            " 9   9       512 non-null    float64\n",
            "dtypes: float64(10)\n",
            "memory usage: 44.0 KB\n"
          ]
        }
      ]
    },
    {
      "cell_type": "code",
      "metadata": {
        "colab": {
          "base_uri": "https://localhost:8080/",
          "height": 297
        },
        "id": "bSYKJyZ6BY3M",
        "outputId": "fb17d439-31fa-4183-b5a2-639e05d4d942"
      },
      "source": [
        "df.describe()"
      ],
      "execution_count": null,
      "outputs": [
        {
          "output_type": "execute_result",
          "data": {
            "text/html": [
              "<div>\n",
              "<style scoped>\n",
              "    .dataframe tbody tr th:only-of-type {\n",
              "        vertical-align: middle;\n",
              "    }\n",
              "\n",
              "    .dataframe tbody tr th {\n",
              "        vertical-align: top;\n",
              "    }\n",
              "\n",
              "    .dataframe thead th {\n",
              "        text-align: right;\n",
              "    }\n",
              "</style>\n",
              "<table border=\"1\" class=\"dataframe\">\n",
              "  <thead>\n",
              "    <tr style=\"text-align: right;\">\n",
              "      <th></th>\n",
              "      <th>0</th>\n",
              "      <th>1</th>\n",
              "      <th>2</th>\n",
              "      <th>3</th>\n",
              "      <th>4</th>\n",
              "      <th>5</th>\n",
              "      <th>6</th>\n",
              "      <th>7</th>\n",
              "      <th>8</th>\n",
              "      <th>9</th>\n",
              "    </tr>\n",
              "  </thead>\n",
              "  <tbody>\n",
              "    <tr>\n",
              "      <th>count</th>\n",
              "      <td>512.000000</td>\n",
              "      <td>512.000000</td>\n",
              "      <td>512.000000</td>\n",
              "      <td>512.000000</td>\n",
              "      <td>512.000000</td>\n",
              "      <td>512.000000</td>\n",
              "      <td>512.000000</td>\n",
              "      <td>512.000000</td>\n",
              "      <td>512.000000</td>\n",
              "      <td>512.000000</td>\n",
              "    </tr>\n",
              "    <tr>\n",
              "      <th>mean</th>\n",
              "      <td>-0.032115</td>\n",
              "      <td>0.038310</td>\n",
              "      <td>0.055014</td>\n",
              "      <td>0.047670</td>\n",
              "      <td>-0.045174</td>\n",
              "      <td>0.029667</td>\n",
              "      <td>-0.033681</td>\n",
              "      <td>0.033665</td>\n",
              "      <td>0.005896</td>\n",
              "      <td>0.085929</td>\n",
              "    </tr>\n",
              "    <tr>\n",
              "      <th>std</th>\n",
              "      <td>1.048670</td>\n",
              "      <td>1.008435</td>\n",
              "      <td>1.064392</td>\n",
              "      <td>1.028553</td>\n",
              "      <td>0.998837</td>\n",
              "      <td>0.951699</td>\n",
              "      <td>0.941672</td>\n",
              "      <td>1.001899</td>\n",
              "      <td>0.983871</td>\n",
              "      <td>1.025924</td>\n",
              "    </tr>\n",
              "    <tr>\n",
              "      <th>min</th>\n",
              "      <td>-2.867930</td>\n",
              "      <td>-3.044989</td>\n",
              "      <td>-3.110947</td>\n",
              "      <td>-3.611517</td>\n",
              "      <td>-3.009351</td>\n",
              "      <td>-2.577752</td>\n",
              "      <td>-3.070282</td>\n",
              "      <td>-3.504670</td>\n",
              "      <td>-2.621187</td>\n",
              "      <td>-3.056144</td>\n",
              "    </tr>\n",
              "    <tr>\n",
              "      <th>25%</th>\n",
              "      <td>-0.741079</td>\n",
              "      <td>-0.619832</td>\n",
              "      <td>-0.646882</td>\n",
              "      <td>-0.629286</td>\n",
              "      <td>-0.730757</td>\n",
              "      <td>-0.601701</td>\n",
              "      <td>-0.631373</td>\n",
              "      <td>-0.649845</td>\n",
              "      <td>-0.668038</td>\n",
              "      <td>-0.565407</td>\n",
              "    </tr>\n",
              "    <tr>\n",
              "      <th>50%</th>\n",
              "      <td>0.022510</td>\n",
              "      <td>0.028851</td>\n",
              "      <td>0.083468</td>\n",
              "      <td>0.057572</td>\n",
              "      <td>-0.087595</td>\n",
              "      <td>0.044121</td>\n",
              "      <td>0.007504</td>\n",
              "      <td>0.035564</td>\n",
              "      <td>0.030169</td>\n",
              "      <td>0.111751</td>\n",
              "    </tr>\n",
              "    <tr>\n",
              "      <th>75%</th>\n",
              "      <td>0.703962</td>\n",
              "      <td>0.679360</td>\n",
              "      <td>0.793849</td>\n",
              "      <td>0.715712</td>\n",
              "      <td>0.625813</td>\n",
              "      <td>0.649478</td>\n",
              "      <td>0.624442</td>\n",
              "      <td>0.690858</td>\n",
              "      <td>0.629502</td>\n",
              "      <td>0.816800</td>\n",
              "    </tr>\n",
              "    <tr>\n",
              "      <th>max</th>\n",
              "      <td>2.775762</td>\n",
              "      <td>3.127843</td>\n",
              "      <td>3.334898</td>\n",
              "      <td>2.809970</td>\n",
              "      <td>2.733106</td>\n",
              "      <td>3.083250</td>\n",
              "      <td>2.727599</td>\n",
              "      <td>2.767642</td>\n",
              "      <td>3.254013</td>\n",
              "      <td>2.863768</td>\n",
              "    </tr>\n",
              "  </tbody>\n",
              "</table>\n",
              "</div>"
            ],
            "text/plain": [
              "                0           1           2  ...           7           8           9\n",
              "count  512.000000  512.000000  512.000000  ...  512.000000  512.000000  512.000000\n",
              "mean    -0.032115    0.038310    0.055014  ...    0.033665    0.005896    0.085929\n",
              "std      1.048670    1.008435    1.064392  ...    1.001899    0.983871    1.025924\n",
              "min     -2.867930   -3.044989   -3.110947  ...   -3.504670   -2.621187   -3.056144\n",
              "25%     -0.741079   -0.619832   -0.646882  ...   -0.649845   -0.668038   -0.565407\n",
              "50%      0.022510    0.028851    0.083468  ...    0.035564    0.030169    0.111751\n",
              "75%      0.703962    0.679360    0.793849  ...    0.690858    0.629502    0.816800\n",
              "max      2.775762    3.127843    3.334898  ...    2.767642    3.254013    2.863768\n",
              "\n",
              "[8 rows x 10 columns]"
            ]
          },
          "metadata": {},
          "execution_count": 6
        }
      ]
    },
    {
      "cell_type": "code",
      "metadata": {
        "colab": {
          "base_uri": "https://localhost:8080/",
          "height": 286
        },
        "id": "rRaaDEMxBY3N",
        "outputId": "dadba806-5a52-4b88-fac7-67e43fb97169"
      },
      "source": [
        "corr = df.corr()\n",
        "sns.heatmap(corr, cmap=\"rainbow\")"
      ],
      "execution_count": null,
      "outputs": [
        {
          "output_type": "execute_result",
          "data": {
            "text/plain": [
              "<matplotlib.axes._subplots.AxesSubplot at 0x7fe7e042e4d0>"
            ]
          },
          "metadata": {},
          "execution_count": 7
        },
        {
          "output_type": "display_data",
          "data": {
            "image/png": "[encoded data removed]",
            "text/plain": [
              "<Figure size 432x288 with 2 Axes>"
            ]
          },
          "metadata": {
            "needs_background": "light"
          }
        }
      ]
    },
    {
      "cell_type": "markdown",
      "metadata": {
        "id": "4iD6bBF4BY3O"
      },
      "source": [
        "#2. Завантажити набір даних для регресії на сайті (у кожного студента має бути інший - прошу організуватись відповідним чином)"
      ]
    },
    {
      "cell_type": "code",
      "metadata": {
        "colab": {
          "base_uri": "https://localhost:8080/",
          "height": 224
        },
        "id": "HBtsMGFSBY3O",
        "outputId": "ab97d947-56c2-4210-c722-925be7e17e41"
      },
      "source": [
        "df = pd.read_csv('data.csv')\n",
        "df.head()"
      ],
      "execution_count": 9,
      "outputs": [
        {
          "output_type": "execute_result",
          "data": {
            "text/html": [
              "<div>\n",
              "<style scoped>\n",
              "    .dataframe tbody tr th:only-of-type {\n",
              "        vertical-align: middle;\n",
              "    }\n",
              "\n",
              "    .dataframe tbody tr th {\n",
              "        vertical-align: top;\n",
              "    }\n",
              "\n",
              "    .dataframe thead th {\n",
              "        text-align: right;\n",
              "    }\n",
              "</style>\n",
              "<table border=\"1\" class=\"dataframe\">\n",
              "  <thead>\n",
              "    <tr style=\"text-align: right;\">\n",
              "      <th></th>\n",
              "      <th>meanfreq</th>\n",
              "      <th>sd</th>\n",
              "      <th>median</th>\n",
              "      <th>Q25</th>\n",
              "      <th>Q75</th>\n",
              "      <th>IQR</th>\n",
              "      <th>skew</th>\n",
              "      <th>kurt</th>\n",
              "      <th>sp.ent</th>\n",
              "      <th>sfm</th>\n",
              "      <th>mode</th>\n",
              "      <th>centroid</th>\n",
              "      <th>meanfun</th>\n",
              "      <th>minfun</th>\n",
              "      <th>maxfun</th>\n",
              "      <th>meandom</th>\n",
              "      <th>mindom</th>\n",
              "      <th>maxdom</th>\n",
              "      <th>dfrange</th>\n",
              "      <th>modindx</th>\n",
              "      <th>label</th>\n",
              "    </tr>\n",
              "  </thead>\n",
              "  <tbody>\n",
              "    <tr>\n",
              "      <th>0</th>\n",
              "      <td>0.059781</td>\n",
              "      <td>0.064241</td>\n",
              "      <td>0.032027</td>\n",
              "      <td>0.015071</td>\n",
              "      <td>0.090193</td>\n",
              "      <td>0.075122</td>\n",
              "      <td>12.863462</td>\n",
              "      <td>274.402906</td>\n",
              "      <td>0.893369</td>\n",
              "      <td>0.491918</td>\n",
              "      <td>0.000000</td>\n",
              "      <td>0.059781</td>\n",
              "      <td>0.084279</td>\n",
              "      <td>0.015702</td>\n",
              "      <td>0.275862</td>\n",
              "      <td>0.007812</td>\n",
              "      <td>0.007812</td>\n",
              "      <td>0.007812</td>\n",
              "      <td>0.000000</td>\n",
              "      <td>0.000000</td>\n",
              "      <td>male</td>\n",
              "    </tr>\n",
              "    <tr>\n",
              "      <th>1</th>\n",
              "      <td>0.066009</td>\n",
              "      <td>0.067310</td>\n",
              "      <td>0.040229</td>\n",
              "      <td>0.019414</td>\n",
              "      <td>0.092666</td>\n",
              "      <td>0.073252</td>\n",
              "      <td>22.423285</td>\n",
              "      <td>634.613855</td>\n",
              "      <td>0.892193</td>\n",
              "      <td>0.513724</td>\n",
              "      <td>0.000000</td>\n",
              "      <td>0.066009</td>\n",
              "      <td>0.107937</td>\n",
              "      <td>0.015826</td>\n",
              "      <td>0.250000</td>\n",
              "      <td>0.009014</td>\n",
              "      <td>0.007812</td>\n",
              "      <td>0.054688</td>\n",
              "      <td>0.046875</td>\n",
              "      <td>0.052632</td>\n",
              "      <td>male</td>\n",
              "    </tr>\n",
              "    <tr>\n",
              "      <th>2</th>\n",
              "      <td>0.077316</td>\n",
              "      <td>0.083829</td>\n",
              "      <td>0.036718</td>\n",
              "      <td>0.008701</td>\n",
              "      <td>0.131908</td>\n",
              "      <td>0.123207</td>\n",
              "      <td>30.757155</td>\n",
              "      <td>1024.927705</td>\n",
              "      <td>0.846389</td>\n",
              "      <td>0.478905</td>\n",
              "      <td>0.000000</td>\n",
              "      <td>0.077316</td>\n",
              "      <td>0.098706</td>\n",
              "      <td>0.015656</td>\n",
              "      <td>0.271186</td>\n",
              "      <td>0.007990</td>\n",
              "      <td>0.007812</td>\n",
              "      <td>0.015625</td>\n",
              "      <td>0.007812</td>\n",
              "      <td>0.046512</td>\n",
              "      <td>male</td>\n",
              "    </tr>\n",
              "    <tr>\n",
              "      <th>3</th>\n",
              "      <td>0.151228</td>\n",
              "      <td>0.072111</td>\n",
              "      <td>0.158011</td>\n",
              "      <td>0.096582</td>\n",
              "      <td>0.207955</td>\n",
              "      <td>0.111374</td>\n",
              "      <td>1.232831</td>\n",
              "      <td>4.177296</td>\n",
              "      <td>0.963322</td>\n",
              "      <td>0.727232</td>\n",
              "      <td>0.083878</td>\n",
              "      <td>0.151228</td>\n",
              "      <td>0.088965</td>\n",
              "      <td>0.017798</td>\n",
              "      <td>0.250000</td>\n",
              "      <td>0.201497</td>\n",
              "      <td>0.007812</td>\n",
              "      <td>0.562500</td>\n",
              "      <td>0.554688</td>\n",
              "      <td>0.247119</td>\n",
              "      <td>male</td>\n",
              "    </tr>\n",
              "    <tr>\n",
              "      <th>4</th>\n",
              "      <td>0.135120</td>\n",
              "      <td>0.079146</td>\n",
              "      <td>0.124656</td>\n",
              "      <td>0.078720</td>\n",
              "      <td>0.206045</td>\n",
              "      <td>0.127325</td>\n",
              "      <td>1.101174</td>\n",
              "      <td>4.333713</td>\n",
              "      <td>0.971955</td>\n",
              "      <td>0.783568</td>\n",
              "      <td>0.104261</td>\n",
              "      <td>0.135120</td>\n",
              "      <td>0.106398</td>\n",
              "      <td>0.016931</td>\n",
              "      <td>0.266667</td>\n",
              "      <td>0.712812</td>\n",
              "      <td>0.007812</td>\n",
              "      <td>5.484375</td>\n",
              "      <td>5.476562</td>\n",
              "      <td>0.208274</td>\n",
              "      <td>male</td>\n",
              "    </tr>\n",
              "  </tbody>\n",
              "</table>\n",
              "</div>"
            ],
            "text/plain": [
              "   meanfreq        sd    median       Q25  ...    maxdom   dfrange   modindx  label\n",
              "0  0.059781  0.064241  0.032027  0.015071  ...  0.007812  0.000000  0.000000   male\n",
              "1  0.066009  0.067310  0.040229  0.019414  ...  0.054688  0.046875  0.052632   male\n",
              "2  0.077316  0.083829  0.036718  0.008701  ...  0.015625  0.007812  0.046512   male\n",
              "3  0.151228  0.072111  0.158011  0.096582  ...  0.562500  0.554688  0.247119   male\n",
              "4  0.135120  0.079146  0.124656  0.078720  ...  5.484375  5.476562  0.208274   male\n",
              "\n",
              "[5 rows x 21 columns]"
            ]
          },
          "metadata": {},
          "execution_count": 9
        }
      ]
    },
    {
      "cell_type": "code",
      "metadata": {
        "id": "2l0TGEIRBY3P",
        "colab": {
          "base_uri": "https://localhost:8080/"
        },
        "outputId": "9f1d1d85-ac16-44ed-b035-91ef92f575d6"
      },
      "source": [
        "df.info()"
      ],
      "execution_count": 10,
      "outputs": [
        {
          "output_type": "stream",
          "name": "stdout",
          "text": [
            "<class 'pandas.core.frame.DataFrame'>\n",
            "RangeIndex: 3168 entries, 0 to 3167\n",
            "Data columns (total 21 columns):\n",
            " #   Column    Non-Null Count  Dtype  \n",
            "---  ------    --------------  -----  \n",
            " 0   meanfreq  3168 non-null   float64\n",
            " 1   sd        3168 non-null   float64\n",
            " 2   median    3168 non-null   float64\n",
            " 3   Q25       3168 non-null   float64\n",
            " 4   Q75       3168 non-null   float64\n",
            " 5   IQR       3168 non-null   float64\n",
            " 6   skew      3168 non-null   float64\n",
            " 7   kurt      3168 non-null   float64\n",
            " 8   sp.ent    3168 non-null   float64\n",
            " 9   sfm       3168 non-null   float64\n",
            " 10  mode      3168 non-null   float64\n",
            " 11  centroid  3168 non-null   float64\n",
            " 12  meanfun   3168 non-null   float64\n",
            " 13  minfun    3168 non-null   float64\n",
            " 14  maxfun    3168 non-null   float64\n",
            " 15  meandom   3168 non-null   float64\n",
            " 16  mindom    3168 non-null   float64\n",
            " 17  maxdom    3168 non-null   float64\n",
            " 18  dfrange   3168 non-null   float64\n",
            " 19  modindx   3168 non-null   float64\n",
            " 20  label     3168 non-null   object \n",
            "dtypes: float64(20), object(1)\n",
            "memory usage: 519.9+ KB\n"
          ]
        }
      ]
    },
    {
      "cell_type": "code",
      "metadata": {
        "id": "tLFtDINyBY3P",
        "colab": {
          "base_uri": "https://localhost:8080/",
          "height": 317
        },
        "outputId": "2d91b5bf-9fc6-4169-a2cc-5b6292888ca6"
      },
      "source": [
        "df.describe()"
      ],
      "execution_count": 11,
      "outputs": [
        {
          "output_type": "execute_result",
          "data": {
            "text/html": [
              "<div>\n",
              "<style scoped>\n",
              "    .dataframe tbody tr th:only-of-type {\n",
              "        vertical-align: middle;\n",
              "    }\n",
              "\n",
              "    .dataframe tbody tr th {\n",
              "        vertical-align: top;\n",
              "    }\n",
              "\n",
              "    .dataframe thead th {\n",
              "        text-align: right;\n",
              "    }\n",
              "</style>\n",
              "<table border=\"1\" class=\"dataframe\">\n",
              "  <thead>\n",
              "    <tr style=\"text-align: right;\">\n",
              "      <th></th>\n",
              "      <th>meanfreq</th>\n",
              "      <th>sd</th>\n",
              "      <th>median</th>\n",
              "      <th>Q25</th>\n",
              "      <th>Q75</th>\n",
              "      <th>IQR</th>\n",
              "      <th>skew</th>\n",
              "      <th>kurt</th>\n",
              "      <th>sp.ent</th>\n",
              "      <th>sfm</th>\n",
              "      <th>mode</th>\n",
              "      <th>centroid</th>\n",
              "      <th>meanfun</th>\n",
              "      <th>minfun</th>\n",
              "      <th>maxfun</th>\n",
              "      <th>meandom</th>\n",
              "      <th>mindom</th>\n",
              "      <th>maxdom</th>\n",
              "      <th>dfrange</th>\n",
              "      <th>modindx</th>\n",
              "    </tr>\n",
              "  </thead>\n",
              "  <tbody>\n",
              "    <tr>\n",
              "      <th>count</th>\n",
              "      <td>3168.000000</td>\n",
              "      <td>3168.000000</td>\n",
              "      <td>3168.000000</td>\n",
              "      <td>3168.000000</td>\n",
              "      <td>3168.000000</td>\n",
              "      <td>3168.000000</td>\n",
              "      <td>3168.000000</td>\n",
              "      <td>3168.000000</td>\n",
              "      <td>3168.000000</td>\n",
              "      <td>3168.000000</td>\n",
              "      <td>3168.000000</td>\n",
              "      <td>3168.000000</td>\n",
              "      <td>3168.000000</td>\n",
              "      <td>3168.000000</td>\n",
              "      <td>3168.000000</td>\n",
              "      <td>3168.000000</td>\n",
              "      <td>3168.000000</td>\n",
              "      <td>3168.000000</td>\n",
              "      <td>3168.000000</td>\n",
              "      <td>3168.000000</td>\n",
              "    </tr>\n",
              "    <tr>\n",
              "      <th>mean</th>\n",
              "      <td>0.180907</td>\n",
              "      <td>0.057126</td>\n",
              "      <td>0.185621</td>\n",
              "      <td>0.140456</td>\n",
              "      <td>0.224765</td>\n",
              "      <td>0.084309</td>\n",
              "      <td>3.140168</td>\n",
              "      <td>36.568461</td>\n",
              "      <td>0.895127</td>\n",
              "      <td>0.408216</td>\n",
              "      <td>0.165282</td>\n",
              "      <td>0.180907</td>\n",
              "      <td>0.142807</td>\n",
              "      <td>0.036802</td>\n",
              "      <td>0.258842</td>\n",
              "      <td>0.829211</td>\n",
              "      <td>0.052647</td>\n",
              "      <td>5.047277</td>\n",
              "      <td>4.994630</td>\n",
              "      <td>0.173752</td>\n",
              "    </tr>\n",
              "    <tr>\n",
              "      <th>std</th>\n",
              "      <td>0.029918</td>\n",
              "      <td>0.016652</td>\n",
              "      <td>0.036360</td>\n",
              "      <td>0.048680</td>\n",
              "      <td>0.023639</td>\n",
              "      <td>0.042783</td>\n",
              "      <td>4.240529</td>\n",
              "      <td>134.928661</td>\n",
              "      <td>0.044980</td>\n",
              "      <td>0.177521</td>\n",
              "      <td>0.077203</td>\n",
              "      <td>0.029918</td>\n",
              "      <td>0.032304</td>\n",
              "      <td>0.019220</td>\n",
              "      <td>0.030077</td>\n",
              "      <td>0.525205</td>\n",
              "      <td>0.063299</td>\n",
              "      <td>3.521157</td>\n",
              "      <td>3.520039</td>\n",
              "      <td>0.119454</td>\n",
              "    </tr>\n",
              "    <tr>\n",
              "      <th>min</th>\n",
              "      <td>0.039363</td>\n",
              "      <td>0.018363</td>\n",
              "      <td>0.010975</td>\n",
              "      <td>0.000229</td>\n",
              "      <td>0.042946</td>\n",
              "      <td>0.014558</td>\n",
              "      <td>0.141735</td>\n",
              "      <td>2.068455</td>\n",
              "      <td>0.738651</td>\n",
              "      <td>0.036876</td>\n",
              "      <td>0.000000</td>\n",
              "      <td>0.039363</td>\n",
              "      <td>0.055565</td>\n",
              "      <td>0.009775</td>\n",
              "      <td>0.103093</td>\n",
              "      <td>0.007812</td>\n",
              "      <td>0.004883</td>\n",
              "      <td>0.007812</td>\n",
              "      <td>0.000000</td>\n",
              "      <td>0.000000</td>\n",
              "    </tr>\n",
              "    <tr>\n",
              "      <th>25%</th>\n",
              "      <td>0.163662</td>\n",
              "      <td>0.041954</td>\n",
              "      <td>0.169593</td>\n",
              "      <td>0.111087</td>\n",
              "      <td>0.208747</td>\n",
              "      <td>0.042560</td>\n",
              "      <td>1.649569</td>\n",
              "      <td>5.669547</td>\n",
              "      <td>0.861811</td>\n",
              "      <td>0.258041</td>\n",
              "      <td>0.118016</td>\n",
              "      <td>0.163662</td>\n",
              "      <td>0.116998</td>\n",
              "      <td>0.018223</td>\n",
              "      <td>0.253968</td>\n",
              "      <td>0.419828</td>\n",
              "      <td>0.007812</td>\n",
              "      <td>2.070312</td>\n",
              "      <td>2.044922</td>\n",
              "      <td>0.099766</td>\n",
              "    </tr>\n",
              "    <tr>\n",
              "      <th>50%</th>\n",
              "      <td>0.184838</td>\n",
              "      <td>0.059155</td>\n",
              "      <td>0.190032</td>\n",
              "      <td>0.140286</td>\n",
              "      <td>0.225684</td>\n",
              "      <td>0.094280</td>\n",
              "      <td>2.197101</td>\n",
              "      <td>8.318463</td>\n",
              "      <td>0.901767</td>\n",
              "      <td>0.396335</td>\n",
              "      <td>0.186599</td>\n",
              "      <td>0.184838</td>\n",
              "      <td>0.140519</td>\n",
              "      <td>0.046110</td>\n",
              "      <td>0.271186</td>\n",
              "      <td>0.765795</td>\n",
              "      <td>0.023438</td>\n",
              "      <td>4.992188</td>\n",
              "      <td>4.945312</td>\n",
              "      <td>0.139357</td>\n",
              "    </tr>\n",
              "    <tr>\n",
              "      <th>75%</th>\n",
              "      <td>0.199146</td>\n",
              "      <td>0.067020</td>\n",
              "      <td>0.210618</td>\n",
              "      <td>0.175939</td>\n",
              "      <td>0.243660</td>\n",
              "      <td>0.114175</td>\n",
              "      <td>2.931694</td>\n",
              "      <td>13.648905</td>\n",
              "      <td>0.928713</td>\n",
              "      <td>0.533676</td>\n",
              "      <td>0.221104</td>\n",
              "      <td>0.199146</td>\n",
              "      <td>0.169581</td>\n",
              "      <td>0.047904</td>\n",
              "      <td>0.277457</td>\n",
              "      <td>1.177166</td>\n",
              "      <td>0.070312</td>\n",
              "      <td>7.007812</td>\n",
              "      <td>6.992188</td>\n",
              "      <td>0.209183</td>\n",
              "    </tr>\n",
              "    <tr>\n",
              "      <th>max</th>\n",
              "      <td>0.251124</td>\n",
              "      <td>0.115273</td>\n",
              "      <td>0.261224</td>\n",
              "      <td>0.247347</td>\n",
              "      <td>0.273469</td>\n",
              "      <td>0.252225</td>\n",
              "      <td>34.725453</td>\n",
              "      <td>1309.612887</td>\n",
              "      <td>0.981997</td>\n",
              "      <td>0.842936</td>\n",
              "      <td>0.280000</td>\n",
              "      <td>0.251124</td>\n",
              "      <td>0.237636</td>\n",
              "      <td>0.204082</td>\n",
              "      <td>0.279114</td>\n",
              "      <td>2.957682</td>\n",
              "      <td>0.458984</td>\n",
              "      <td>21.867188</td>\n",
              "      <td>21.843750</td>\n",
              "      <td>0.932374</td>\n",
              "    </tr>\n",
              "  </tbody>\n",
              "</table>\n",
              "</div>"
            ],
            "text/plain": [
              "          meanfreq           sd  ...      dfrange      modindx\n",
              "count  3168.000000  3168.000000  ...  3168.000000  3168.000000\n",
              "mean      0.180907     0.057126  ...     4.994630     0.173752\n",
              "std       0.029918     0.016652  ...     3.520039     0.119454\n",
              "min       0.039363     0.018363  ...     0.000000     0.000000\n",
              "25%       0.163662     0.041954  ...     2.044922     0.099766\n",
              "50%       0.184838     0.059155  ...     4.945312     0.139357\n",
              "75%       0.199146     0.067020  ...     6.992188     0.209183\n",
              "max       0.251124     0.115273  ...    21.843750     0.932374\n",
              "\n",
              "[8 rows x 20 columns]"
            ]
          },
          "metadata": {},
          "execution_count": 11
        }
      ]
    },
    {
      "cell_type": "code",
      "metadata": {
        "id": "XbCY7HrNBY3Q",
        "colab": {
          "base_uri": "https://localhost:8080/",
          "height": 327
        },
        "outputId": "b552e62a-78da-4575-e63f-2bb6260fe7a8"
      },
      "source": [
        "corr = df.corr()\n",
        "sns.heatmap(corr, cmap=\"YlGnBu\")"
      ],
      "execution_count": 12,
      "outputs": [
        {
          "output_type": "execute_result",
          "data": {
            "text/plain": [
              "<matplotlib.axes._subplots.AxesSubplot at 0x7fe7d82ebed0>"
            ]
          },
          "metadata": {},
          "execution_count": 12
        },
        {
          "output_type": "display_data",
          "data": {
            "image/png": "[encoded data removed]",
            "text/plain": [
              "<Figure size 432x288 with 2 Axes>"
            ]
          },
          "metadata": {
            "needs_background": "light"
          }
        }
      ]
    },
    {
      "cell_type": "code",
      "metadata": {
        "id": "oTBHN40jBY3Q"
      },
      "source": [
        "import sklearn\n",
        "from sklearn.model_selection import train_test_split"
      ],
      "execution_count": 14,
      "outputs": []
    },
    {
      "cell_type": "code",
      "metadata": {
        "id": "Gu0EgAsRBY3Q"
      },
      "source": [
        "columns=df.columns #label не використовую, він не типу int або float\n",
        "columns=columns[:19]\n",
        "X=df[['meanfreq', 'sd', 'median', 'Q25', 'Q75', 'IQR', 'skew', 'kurt', 'sp.ent', 'sfm', 'mode', 'centroid', 'meanfun', 'minfun', 'maxfun', 'meandom', 'mindom', 'maxdom', 'dfrange']]\n",
        "\n",
        "y=df[['modindx']]"
      ],
      "execution_count": 15,
      "outputs": []
    },
    {
      "cell_type": "code",
      "metadata": {
        "id": "kesuQ88eBY3R"
      },
      "source": [
        "X_train,X_test,y_train,y_test = train_test_split(X,y,test_size=0.3)"
      ],
      "execution_count": 16,
      "outputs": []
    },
    {
      "cell_type": "code",
      "metadata": {
        "id": "O91U4Nk9BY3R"
      },
      "source": [
        "from sklearn.linear_model import LinearRegression"
      ],
      "execution_count": 17,
      "outputs": []
    },
    {
      "cell_type": "code",
      "metadata": {
        "id": "xhMgZSsbBY3R"
      },
      "source": [
        "lr = LinearRegression()"
      ],
      "execution_count": 18,
      "outputs": []
    },
    {
      "cell_type": "code",
      "metadata": {
        "id": "eKlYlrrMBY3R",
        "colab": {
          "base_uri": "https://localhost:8080/"
        },
        "outputId": "85fe942f-b0bf-4988-dfea-dec0c8f5e3ef"
      },
      "source": [
        "lr.fit(X_train,y_train)\n"
      ],
      "execution_count": 19,
      "outputs": [
        {
          "output_type": "execute_result",
          "data": {
            "text/plain": [
              "LinearRegression(copy_X=True, fit_intercept=True, n_jobs=None, normalize=False)"
            ]
          },
          "metadata": {},
          "execution_count": 19
        }
      ]
    },
    {
      "cell_type": "code",
      "metadata": {
        "id": "gqmc5AaYBY3R"
      },
      "source": [
        "y_Hat = lr.predict(X_test)"
      ],
      "execution_count": 20,
      "outputs": []
    },
    {
      "cell_type": "code",
      "metadata": {
        "id": "H3ya67qCBY3S",
        "colab": {
          "base_uri": "https://localhost:8080/"
        },
        "outputId": "13d750b9-72ac-45ec-f866-fba5d4d5892c"
      },
      "source": [
        "from sklearn.metrics import mean_absolute_error\n",
        "\n",
        "mean_absolute_error(y_test, y_Hat)\n"
      ],
      "execution_count": 21,
      "outputs": [
        {
          "output_type": "execute_result",
          "data": {
            "text/plain": [
              "0.06285227017039269"
            ]
          },
          "metadata": {},
          "execution_count": 21
        }
      ]
    },
    {
      "cell_type": "code",
      "metadata": {
        "id": "fMJ95H7QBY3S",
        "colab": {
          "base_uri": "https://localhost:8080/"
        },
        "outputId": "2a545c70-1758-4586-8dc0-10347421cbbd"
      },
      "source": [
        "from sklearn.metrics import mean_squared_error \n",
        "mean_squared_error(y_test, y_Hat)"
      ],
      "execution_count": 22,
      "outputs": [
        {
          "output_type": "execute_result",
          "data": {
            "text/plain": [
              "0.00798712116078562"
            ]
          },
          "metadata": {},
          "execution_count": 22
        }
      ]
    },
    {
      "cell_type": "code",
      "metadata": {
        "id": "fVsWosjZBY3S",
        "colab": {
          "base_uri": "https://localhost:8080/",
          "height": 204
        },
        "outputId": "7a62bb1e-dda7-421d-c459-6f36fc7ad871"
      },
      "source": [
        "res = pd.DataFrame(y_test)\n",
        "res['modindx_predicted'] = y_Hat\n",
        "\n",
        "res.head()"
      ],
      "execution_count": 23,
      "outputs": [
        {
          "output_type": "execute_result",
          "data": {
            "text/html": [
              "<div>\n",
              "<style scoped>\n",
              "    .dataframe tbody tr th:only-of-type {\n",
              "        vertical-align: middle;\n",
              "    }\n",
              "\n",
              "    .dataframe tbody tr th {\n",
              "        vertical-align: top;\n",
              "    }\n",
              "\n",
              "    .dataframe thead th {\n",
              "        text-align: right;\n",
              "    }\n",
              "</style>\n",
              "<table border=\"1\" class=\"dataframe\">\n",
              "  <thead>\n",
              "    <tr style=\"text-align: right;\">\n",
              "      <th></th>\n",
              "      <th>modindx</th>\n",
              "      <th>modindx_predicted</th>\n",
              "    </tr>\n",
              "  </thead>\n",
              "  <tbody>\n",
              "    <tr>\n",
              "      <th>1152</th>\n",
              "      <td>0.067903</td>\n",
              "      <td>0.057731</td>\n",
              "    </tr>\n",
              "    <tr>\n",
              "      <th>745</th>\n",
              "      <td>0.223520</td>\n",
              "      <td>0.211243</td>\n",
              "    </tr>\n",
              "    <tr>\n",
              "      <th>2824</th>\n",
              "      <td>0.124393</td>\n",
              "      <td>0.162012</td>\n",
              "    </tr>\n",
              "    <tr>\n",
              "      <th>3034</th>\n",
              "      <td>0.510256</td>\n",
              "      <td>0.308220</td>\n",
              "    </tr>\n",
              "    <tr>\n",
              "      <th>190</th>\n",
              "      <td>0.159204</td>\n",
              "      <td>0.207242</td>\n",
              "    </tr>\n",
              "  </tbody>\n",
              "</table>\n",
              "</div>"
            ],
            "text/plain": [
              "       modindx  modindx_predicted\n",
              "1152  0.067903           0.057731\n",
              "745   0.223520           0.211243\n",
              "2824  0.124393           0.162012\n",
              "3034  0.510256           0.308220\n",
              "190   0.159204           0.207242"
            ]
          },
          "metadata": {},
          "execution_count": 23
        }
      ]
    },
    {
      "cell_type": "code",
      "metadata": {
        "id": "Qi_973_3BY3S",
        "colab": {
          "base_uri": "https://localhost:8080/",
          "height": 282
        },
        "outputId": "b03a5dff-cb25-470e-c50a-5be69f6e8293"
      },
      "source": [
        "plt.scatter(res['modindx'],res['modindx_predicted'])"
      ],
      "execution_count": 24,
      "outputs": [
        {
          "output_type": "execute_result",
          "data": {
            "text/plain": [
              "<matplotlib.collections.PathCollection at 0x7fe7d4084f10>"
            ]
          },
          "metadata": {},
          "execution_count": 24
        },
        {
          "output_type": "display_data",
          "data": {
            "image/png": "[encoded data removed]",
            "text/plain": [
              "<Figure size 432x288 with 1 Axes>"
            ]
          },
          "metadata": {
            "needs_background": "light"
          }
        }
      ]
    },
    {
      "cell_type": "markdown",
      "metadata": {
        "id": "nuQn-YLeBY3T"
      },
      "source": [
        "##3. (опціонально для отримання відмінної оцінки) Згенерувати набір даних для регресії на основі звичайних можливостей Python.\n",
        "##4. Для отриманих наборів даних провести встановленні кроки моделювання."
      ]
    },
    {
      "cell_type": "code",
      "metadata": {
        "id": "2HNWm_V4BY3T"
      },
      "source": [
        "import random as rnd\n",
        "\n",
        "sex = {0:'Man', 1:'Woman'}\n",
        "age = {0:'<30', 1:'>30'}\n",
        "car = {0:'have', 1:'dont have'}\n",
        "marital_status = {0:'YES', 1:'NO'}\n",
        "child = {0:'0', 1:'1', 2:'2', 3:'More than 3'}\n",
        "citizenship = {0:'Ukrainian', 1:'Russian', 2:'Belorussian', 3:'Another'}\n",
        "data = []\n",
        "for i in range(0, 512):\n",
        "    row = []\n",
        "    row.append(round(rnd.uniform(1, 50), 2))\n",
        "    row.append(round(rnd.uniform(1, 10), 2))\n",
        "    row.append(sex[rnd.randint(0, 1)])\n",
        "    row.append(age[rnd.randint(0, 1)])\n",
        "    row.append(car[rnd.randint(0, 1)])\n",
        "    row.append(marital_status[rnd.randint(0, 1)])\n",
        "    row.append(child[rnd.randint(0, 3)])\n",
        "    row.append(citizenship[rnd.randint(0, 3)])\n",
        "    data.append(row)\n",
        "df = pd.DataFrame(data, columns=['total_utility_bill', 'commission', 'sex', 'age', 'car', 'marital_status', 'child', 'citizenthip'])"
      ],
      "execution_count": 41,
      "outputs": []
    },
    {
      "cell_type": "code",
      "metadata": {
        "id": "FWgN6HqOBY3T"
      },
      "source": [
        "df.replace({'Man': 0, 'Woman':1, '<30': 0, '>30':1, 'have':0, 'dont have':1, 'YES':0, 'NO':1, '0':0, '1':1, '2':2, 'More than 3':3, 'Ukrainian': 0\n",
        ", 'Russian':1, 'Belorussian':2, 'Another':3}, None, True)\n",
        "\n",
        "df.to_csv('myData.csv')"
      ],
      "execution_count": 42,
      "outputs": []
    },
    {
      "cell_type": "code",
      "metadata": {
        "id": "ne9jUcalBY3U",
        "colab": {
          "base_uri": "https://localhost:8080/",
          "height": 204
        },
        "outputId": "0e91b6b2-3237-4951-e6b5-f59701c8f6fb"
      },
      "source": [
        "df.head()"
      ],
      "execution_count": 27,
      "outputs": [
        {
          "output_type": "execute_result",
          "data": {
            "text/html": [
              "<div>\n",
              "<style scoped>\n",
              "    .dataframe tbody tr th:only-of-type {\n",
              "        vertical-align: middle;\n",
              "    }\n",
              "\n",
              "    .dataframe tbody tr th {\n",
              "        vertical-align: top;\n",
              "    }\n",
              "\n",
              "    .dataframe thead th {\n",
              "        text-align: right;\n",
              "    }\n",
              "</style>\n",
              "<table border=\"1\" class=\"dataframe\">\n",
              "  <thead>\n",
              "    <tr style=\"text-align: right;\">\n",
              "      <th></th>\n",
              "      <th>total_utility_bill</th>\n",
              "      <th>commission</th>\n",
              "      <th>sex</th>\n",
              "      <th>age</th>\n",
              "      <th>car</th>\n",
              "      <th>marital_status</th>\n",
              "      <th>child</th>\n",
              "      <th>citizenthip</th>\n",
              "    </tr>\n",
              "  </thead>\n",
              "  <tbody>\n",
              "    <tr>\n",
              "      <th>0</th>\n",
              "      <td>30.47</td>\n",
              "      <td>7.78</td>\n",
              "      <td>1</td>\n",
              "      <td>1</td>\n",
              "      <td>1</td>\n",
              "      <td>1</td>\n",
              "      <td>3</td>\n",
              "      <td>3</td>\n",
              "    </tr>\n",
              "    <tr>\n",
              "      <th>1</th>\n",
              "      <td>33.73</td>\n",
              "      <td>2.46</td>\n",
              "      <td>1</td>\n",
              "      <td>0</td>\n",
              "      <td>1</td>\n",
              "      <td>1</td>\n",
              "      <td>3</td>\n",
              "      <td>3</td>\n",
              "    </tr>\n",
              "    <tr>\n",
              "      <th>2</th>\n",
              "      <td>48.30</td>\n",
              "      <td>2.96</td>\n",
              "      <td>1</td>\n",
              "      <td>1</td>\n",
              "      <td>0</td>\n",
              "      <td>0</td>\n",
              "      <td>0</td>\n",
              "      <td>1</td>\n",
              "    </tr>\n",
              "    <tr>\n",
              "      <th>3</th>\n",
              "      <td>36.06</td>\n",
              "      <td>1.31</td>\n",
              "      <td>0</td>\n",
              "      <td>1</td>\n",
              "      <td>0</td>\n",
              "      <td>1</td>\n",
              "      <td>1</td>\n",
              "      <td>2</td>\n",
              "    </tr>\n",
              "    <tr>\n",
              "      <th>4</th>\n",
              "      <td>23.92</td>\n",
              "      <td>2.41</td>\n",
              "      <td>0</td>\n",
              "      <td>1</td>\n",
              "      <td>1</td>\n",
              "      <td>0</td>\n",
              "      <td>1</td>\n",
              "      <td>0</td>\n",
              "    </tr>\n",
              "  </tbody>\n",
              "</table>\n",
              "</div>"
            ],
            "text/plain": [
              "   total_utility_bill  commission  sex  ...  marital_status  child  citizenthip\n",
              "0               30.47        7.78    1  ...               1      3            3\n",
              "1               33.73        2.46    1  ...               1      3            3\n",
              "2               48.30        2.96    1  ...               0      0            1\n",
              "3               36.06        1.31    0  ...               1      1            2\n",
              "4               23.92        2.41    0  ...               0      1            0\n",
              "\n",
              "[5 rows x 8 columns]"
            ]
          },
          "metadata": {},
          "execution_count": 27
        }
      ]
    },
    {
      "cell_type": "code",
      "metadata": {
        "id": "VPIhJdo4BY3U",
        "colab": {
          "base_uri": "https://localhost:8080/"
        },
        "outputId": "4fbeabd6-0893-4e6a-88ba-6dc38ee54af8"
      },
      "source": [
        "df.info()"
      ],
      "execution_count": 43,
      "outputs": [
        {
          "output_type": "stream",
          "name": "stdout",
          "text": [
            "<class 'pandas.core.frame.DataFrame'>\n",
            "RangeIndex: 512 entries, 0 to 511\n",
            "Data columns (total 8 columns):\n",
            " #   Column              Non-Null Count  Dtype  \n",
            "---  ------              --------------  -----  \n",
            " 0   total_utility_bill  512 non-null    float64\n",
            " 1   commission          512 non-null    float64\n",
            " 2   sex                 512 non-null    int64  \n",
            " 3   age                 512 non-null    int64  \n",
            " 4   car                 512 non-null    int64  \n",
            " 5   marital_status      512 non-null    int64  \n",
            " 6   child               512 non-null    int64  \n",
            " 7   citizenthip         512 non-null    int64  \n",
            "dtypes: float64(2), int64(6)\n",
            "memory usage: 32.1 KB\n"
          ]
        }
      ]
    },
    {
      "cell_type": "code",
      "metadata": {
        "id": "EiiN5xwyBY3U",
        "colab": {
          "base_uri": "https://localhost:8080/",
          "height": 297
        },
        "outputId": "19910a66-afca-4dd7-ecba-fdc87f346c8c"
      },
      "source": [
        "df.describe()"
      ],
      "execution_count": 44,
      "outputs": [
        {
          "output_type": "execute_result",
          "data": {
            "text/html": [
              "<div>\n",
              "<style scoped>\n",
              "    .dataframe tbody tr th:only-of-type {\n",
              "        vertical-align: middle;\n",
              "    }\n",
              "\n",
              "    .dataframe tbody tr th {\n",
              "        vertical-align: top;\n",
              "    }\n",
              "\n",
              "    .dataframe thead th {\n",
              "        text-align: right;\n",
              "    }\n",
              "</style>\n",
              "<table border=\"1\" class=\"dataframe\">\n",
              "  <thead>\n",
              "    <tr style=\"text-align: right;\">\n",
              "      <th></th>\n",
              "      <th>total_utility_bill</th>\n",
              "      <th>commission</th>\n",
              "      <th>sex</th>\n",
              "      <th>age</th>\n",
              "      <th>car</th>\n",
              "      <th>marital_status</th>\n",
              "      <th>child</th>\n",
              "      <th>citizenthip</th>\n",
              "    </tr>\n",
              "  </thead>\n",
              "  <tbody>\n",
              "    <tr>\n",
              "      <th>count</th>\n",
              "      <td>512.000000</td>\n",
              "      <td>512.000000</td>\n",
              "      <td>512.000000</td>\n",
              "      <td>512.000000</td>\n",
              "      <td>512.000000</td>\n",
              "      <td>512.000000</td>\n",
              "      <td>512.000000</td>\n",
              "      <td>512.000000</td>\n",
              "    </tr>\n",
              "    <tr>\n",
              "      <th>mean</th>\n",
              "      <td>26.403711</td>\n",
              "      <td>5.253867</td>\n",
              "      <td>0.503906</td>\n",
              "      <td>0.541016</td>\n",
              "      <td>0.513672</td>\n",
              "      <td>0.521484</td>\n",
              "      <td>1.435547</td>\n",
              "      <td>1.507812</td>\n",
              "    </tr>\n",
              "    <tr>\n",
              "      <th>std</th>\n",
              "      <td>13.850278</td>\n",
              "      <td>2.514562</td>\n",
              "      <td>0.500474</td>\n",
              "      <td>0.498802</td>\n",
              "      <td>0.500302</td>\n",
              "      <td>0.500027</td>\n",
              "      <td>1.104937</td>\n",
              "      <td>1.143320</td>\n",
              "    </tr>\n",
              "    <tr>\n",
              "      <th>min</th>\n",
              "      <td>1.210000</td>\n",
              "      <td>1.040000</td>\n",
              "      <td>0.000000</td>\n",
              "      <td>0.000000</td>\n",
              "      <td>0.000000</td>\n",
              "      <td>0.000000</td>\n",
              "      <td>0.000000</td>\n",
              "      <td>0.000000</td>\n",
              "    </tr>\n",
              "    <tr>\n",
              "      <th>25%</th>\n",
              "      <td>15.427500</td>\n",
              "      <td>3.085000</td>\n",
              "      <td>0.000000</td>\n",
              "      <td>0.000000</td>\n",
              "      <td>0.000000</td>\n",
              "      <td>0.000000</td>\n",
              "      <td>0.000000</td>\n",
              "      <td>0.000000</td>\n",
              "    </tr>\n",
              "    <tr>\n",
              "      <th>50%</th>\n",
              "      <td>27.415000</td>\n",
              "      <td>5.080000</td>\n",
              "      <td>1.000000</td>\n",
              "      <td>1.000000</td>\n",
              "      <td>1.000000</td>\n",
              "      <td>1.000000</td>\n",
              "      <td>1.000000</td>\n",
              "      <td>1.000000</td>\n",
              "    </tr>\n",
              "    <tr>\n",
              "      <th>75%</th>\n",
              "      <td>37.922500</td>\n",
              "      <td>7.370000</td>\n",
              "      <td>1.000000</td>\n",
              "      <td>1.000000</td>\n",
              "      <td>1.000000</td>\n",
              "      <td>1.000000</td>\n",
              "      <td>2.000000</td>\n",
              "      <td>3.000000</td>\n",
              "    </tr>\n",
              "    <tr>\n",
              "      <th>max</th>\n",
              "      <td>49.690000</td>\n",
              "      <td>9.990000</td>\n",
              "      <td>1.000000</td>\n",
              "      <td>1.000000</td>\n",
              "      <td>1.000000</td>\n",
              "      <td>1.000000</td>\n",
              "      <td>3.000000</td>\n",
              "      <td>3.000000</td>\n",
              "    </tr>\n",
              "  </tbody>\n",
              "</table>\n",
              "</div>"
            ],
            "text/plain": [
              "       total_utility_bill  commission  ...       child  citizenthip\n",
              "count          512.000000  512.000000  ...  512.000000   512.000000\n",
              "mean            26.403711    5.253867  ...    1.435547     1.507812\n",
              "std             13.850278    2.514562  ...    1.104937     1.143320\n",
              "min              1.210000    1.040000  ...    0.000000     0.000000\n",
              "25%             15.427500    3.085000  ...    0.000000     0.000000\n",
              "50%             27.415000    5.080000  ...    1.000000     1.000000\n",
              "75%             37.922500    7.370000  ...    2.000000     3.000000\n",
              "max             49.690000    9.990000  ...    3.000000     3.000000\n",
              "\n",
              "[8 rows x 8 columns]"
            ]
          },
          "metadata": {},
          "execution_count": 44
        }
      ]
    },
    {
      "cell_type": "code",
      "metadata": {
        "id": "PCXGRGK7BY3U",
        "colab": {
          "base_uri": "https://localhost:8080/",
          "height": 353
        },
        "outputId": "1589c4a1-77d5-4db9-8229-9b7359da2c47"
      },
      "source": [
        "corr = df.corr()\n",
        "sns.heatmap(corr, cmap=\"YlGnBu\")"
      ],
      "execution_count": 45,
      "outputs": [
        {
          "output_type": "execute_result",
          "data": {
            "text/plain": [
              "<matplotlib.axes._subplots.AxesSubplot at 0x7fe7d3e1d050>"
            ]
          },
          "metadata": {},
          "execution_count": 45
        },
        {
          "output_type": "display_data",
          "data": {
            "image/png": "[encoded data removed]",
            "text/plain": [
              "<Figure size 432x288 with 2 Axes>"
            ]
          },
          "metadata": {
            "needs_background": "light"
          }
        }
      ]
    },
    {
      "cell_type": "code",
      "metadata": {
        "id": "VQiLtTaXBY3U"
      },
      "source": [
        "columns=df.columns\n",
        "columns=columns[:7]\n",
        "X=df[['total_utility_bill', 'commission', 'sex', 'age', 'car', 'marital_status', 'child']]\n",
        "\n",
        "y=df[['citizenthip']]"
      ],
      "execution_count": 46,
      "outputs": []
    },
    {
      "cell_type": "code",
      "metadata": {
        "id": "g1o80yYDBY3U"
      },
      "source": [
        "X_train,X_test,y_train,y_test = train_test_split(X,y,test_size=0.3)"
      ],
      "execution_count": 47,
      "outputs": []
    },
    {
      "cell_type": "code",
      "metadata": {
        "id": "wsS2NFRXBY3V"
      },
      "source": [
        "lr = LinearRegression()"
      ],
      "execution_count": 48,
      "outputs": []
    },
    {
      "cell_type": "code",
      "metadata": {
        "id": "5VYnfl5tBY3V",
        "colab": {
          "base_uri": "https://localhost:8080/"
        },
        "outputId": "05260bbc-b793-42f0-bf06-702ac030c6b0"
      },
      "source": [
        "lr.fit(X_train,y_train)"
      ],
      "execution_count": 49,
      "outputs": [
        {
          "output_type": "execute_result",
          "data": {
            "text/plain": [
              "LinearRegression(copy_X=True, fit_intercept=True, n_jobs=None, normalize=False)"
            ]
          },
          "metadata": {},
          "execution_count": 49
        }
      ]
    },
    {
      "cell_type": "code",
      "metadata": {
        "id": "T3qbWxhpBY3V"
      },
      "source": [
        "y_Hat = lr.predict(X_test)"
      ],
      "execution_count": 51,
      "outputs": []
    },
    {
      "cell_type": "code",
      "metadata": {
        "id": "eRaLyxfGBY3V",
        "colab": {
          "base_uri": "https://localhost:8080/"
        },
        "outputId": "bb008c5a-3c27-43cb-e7d5-44b9070922fb"
      },
      "source": [
        "mean_absolute_error(y_test, y_Hat)"
      ],
      "execution_count": 52,
      "outputs": [
        {
          "output_type": "execute_result",
          "data": {
            "text/plain": [
              "1.0188391488559196"
            ]
          },
          "metadata": {},
          "execution_count": 52
        }
      ]
    },
    {
      "cell_type": "code",
      "metadata": {
        "id": "B9zbLhmZBY3V",
        "colab": {
          "base_uri": "https://localhost:8080/"
        },
        "outputId": "53eec177-4c91-4a0d-c4e8-0e870a67e9eb"
      },
      "source": [
        "mean_squared_error(y_test, y_Hat)"
      ],
      "execution_count": 53,
      "outputs": [
        {
          "output_type": "execute_result",
          "data": {
            "text/plain": [
              "1.3069237057096268"
            ]
          },
          "metadata": {},
          "execution_count": 53
        }
      ]
    },
    {
      "cell_type": "code",
      "metadata": {
        "id": "-JWIAkLdBY3V",
        "colab": {
          "base_uri": "https://localhost:8080/",
          "height": 204
        },
        "outputId": "5c984c9c-5d2a-4bd6-ca7c-cf5cecc8b83f"
      },
      "source": [
        "res = pd.DataFrame(y_test)\n",
        "res['citizenthip_predicted'] = y_Hat\n",
        "\n",
        "res.head()"
      ],
      "execution_count": 54,
      "outputs": [
        {
          "output_type": "execute_result",
          "data": {
            "text/html": [
              "<div>\n",
              "<style scoped>\n",
              "    .dataframe tbody tr th:only-of-type {\n",
              "        vertical-align: middle;\n",
              "    }\n",
              "\n",
              "    .dataframe tbody tr th {\n",
              "        vertical-align: top;\n",
              "    }\n",
              "\n",
              "    .dataframe thead th {\n",
              "        text-align: right;\n",
              "    }\n",
              "</style>\n",
              "<table border=\"1\" class=\"dataframe\">\n",
              "  <thead>\n",
              "    <tr style=\"text-align: right;\">\n",
              "      <th></th>\n",
              "      <th>citizenthip</th>\n",
              "      <th>citizenthip_predicted</th>\n",
              "    </tr>\n",
              "  </thead>\n",
              "  <tbody>\n",
              "    <tr>\n",
              "      <th>431</th>\n",
              "      <td>1</td>\n",
              "      <td>1.282985</td>\n",
              "    </tr>\n",
              "    <tr>\n",
              "      <th>125</th>\n",
              "      <td>2</td>\n",
              "      <td>1.414028</td>\n",
              "    </tr>\n",
              "    <tr>\n",
              "      <th>118</th>\n",
              "      <td>1</td>\n",
              "      <td>1.361289</td>\n",
              "    </tr>\n",
              "    <tr>\n",
              "      <th>144</th>\n",
              "      <td>3</td>\n",
              "      <td>1.557544</td>\n",
              "    </tr>\n",
              "    <tr>\n",
              "      <th>357</th>\n",
              "      <td>1</td>\n",
              "      <td>1.537595</td>\n",
              "    </tr>\n",
              "  </tbody>\n",
              "</table>\n",
              "</div>"
            ],
            "text/plain": [
              "     citizenthip  citizenthip_predicted\n",
              "431            1               1.282985\n",
              "125            2               1.414028\n",
              "118            1               1.361289\n",
              "144            3               1.557544\n",
              "357            1               1.537595"
            ]
          },
          "metadata": {},
          "execution_count": 54
        }
      ]
    },
    {
      "cell_type": "code",
      "metadata": {
        "id": "29jk1WRxBY3W",
        "colab": {
          "base_uri": "https://localhost:8080/",
          "height": 282
        },
        "outputId": "c87c2911-4f1a-47ca-fc12-f23b9cbcc496"
      },
      "source": [
        "plt.scatter(res['citizenthip'],res['citizenthip_predicted'])"
      ],
      "execution_count": 55,
      "outputs": [
        {
          "output_type": "execute_result",
          "data": {
            "text/plain": [
              "<matplotlib.collections.PathCollection at 0x7fe7d3d0c110>"
            ]
          },
          "metadata": {},
          "execution_count": 55
        },
        {
          "output_type": "display_data",
          "data": {
            "image/png": "[encoded data removed]",
            "text/plain": [
              "<Figure size 432x288 with 1 Axes>"
            ]
          },
          "metadata": {
            "needs_background": "light"
          }
        }
      ]
    },
    {
      "cell_type": "markdown",
      "metadata": {
        "id": "NxviB_n_Bwgb"
      },
      "source": [
        "##5. Отримані результати викласти на github у репозиторій ml2021 в основну (default) гілку в папці Lab2."
      ]
    }
  ]
}